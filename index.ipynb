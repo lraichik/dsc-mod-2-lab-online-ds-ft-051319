{
 "cells": [
  {
   "cell_type": "markdown",
   "metadata": {},
   "source": [
    "# Module 2 Summative Lab\n",
    "\n",
    "## Introduction\n",
    "\n",
    "For today's section, we're going to work on a single big lab to apply everything we've learned in Module 2!\n",
    "\n",
    "## About This Lab\n",
    "\n",
    "A quick note before getting started--this lab isn't like other labs you seen so far. This lab is meant to take ~8 hours to complete, so it's much longer and more challenging that the average labs you've seen so far. If you feel like this lab is challenging or that you might be struggling a bit, don't fret--that's by design! With everything we've learned about Web Scraping, APIs, and Databases, the best way to test our knowledge of it is to build something substantial! \n",
    "\n",
    "## The Project\n",
    "\n",
    "In this lab, we're going to make use of everything we've learned about APIs, databases, and Object-Oriented Programming to **_Extract, Transform, and Load_** (or **_ETL_**, for short) some data from a SQL database into a MongoDB Database. \n",
    "\n",
    "You'll find a database containing information about soccer teams and the matches they've played in the file `database.sqlite`. For this project, our goal is to get the data we think is important from this SQL database, do some calculations and data transformation, and then store everything in a MongoDB database. \n",
    "\n",
    "Let's get into the specifics of this project.\n",
    "\n",
    "### The Goal\n",
    "\n",
    "Start by examining the data dictionary for the SQL database we'll be working with, which comes from this [kaggle page](https://www.kaggle.com/laudanum/footballdelphi).  Familiarize yourself with the tables it contains, and what each column means. We'll be using this database to get data on each soccer team, calculate some summary statistics, and then store each in a MongoDB database. \n",
    "\n",
    "Upon completion of this lab, each unique team in this dataset should have a record in the MongoDB instance containing the following information:\n",
    "\n",
    "* The name of the team\n",
    "* The total number of goals scored by the team during the 2011 season\n",
    "* The total number of wins the team earned during the 2011 season\n",
    "* A histogram visualization of the team's wins and losses for the 2011 season (store the visualization directly)\n",
    "* The team's win percentage on days where it was raining during games in the 2011 season. \n",
    "\n",
    "#### Getting the Weather Data\n",
    "\n",
    "Note that for this last calculation, you'll need to figure out if it was raining or not during the game. The database itself does not contain this information, but it does contain the date on which the game was played. For this, you'll need to use the [DarkSky API](https://darksky.net/dev) to get the historical weather data for that day. Note that each game is played in a different location, and this information is not contained in our SQL database. However, the teams in this database are largely german, so go ahead and just use the weather in Berlin, Germany as a proxy for this information. If it was raining in Berlin on the day the game was played, count that as rain game--**_you do not need to try and figure out the actual weather at each game's location, because we don't have that information!_**\n",
    "\n",
    "#### NOTE: The DarkSky API is limited to 1000 free API calls a day, so be sure to test your model on very small samples. Otherwise, you'll hit the rate limit!\n",
    "\n",
    "## Project Architecture\n",
    "\n",
    "Unlike previous labs, this lab is more open-ended, and will require you to make design decisions and plan out your strategy for building a system with this many working parts. However, **_using Object-Oriented Programming is a requirement for this project--you must create at least 2 separate, well structured classes in your solution!_** Although it may seem easier to \"just start coding\", this is a classic beginner's mistake. Instead, think about separating out the different functionalities you'll need to reach your goal, and then build classes to handle each. For instance, at minimum, you'll need to:\n",
    "\n",
    "* Query the SQL database\n",
    "* Calculate summary statistics\n",
    "* Get the weather data from the DarkSky API\n",
    "* Load the data into MongoDB\n",
    "\n",
    "We **_strongly recommend_** you consider creating separate classes for handling at least some of these of these tasks.  Be sure to plan the inputs, outputs, and methods for each class before you begin coding! \n",
    "\n",
    "**_NOTE:_** We have provided some empty classes below. You are welcome to delete them and use a different architecture for this project if you so choose.  You do not have to use each of them, they are just there to give you an idea of what you could sorts of classes you may want to consider using.\n",
    "\n",
    "### Rapid Prototyping and Refactoring\n",
    "\n",
    "It's totally okay to try to get a task working without using OOP. For instance, when experimenting with the DarkSky API for getting historical weather data, it makes sense to just write the code in the cells and rapidly iterate until you get it all working. However, once you get it working, you're not done--you should then **_Refactor_** your code into functions or classes to make your code more modular, reusable, understandable, and maintainable! \n",
    "\n",
    "In short--do what you need to do to get each separate piece of functionality working, and then refactor it into a class after you've figured it out!\n",
    "\n",
    "### Some Final Advice\n",
    "\n",
    "You haven't built anything this big or complex thus far, so you may not yet fully realize how much trial and error goes into it. If your code keeps breaking, resist the urge to get frustrated, and just keep working. Software development is an iterative process!  No one writes perfect code that works the first time for something this involved. You're going to run into _a lot_ of small errors in this project, right up until the point where it just works, and then you're done! However, you can reduce these errors by planning out your code, and thinking about how all of the pieces fit together before you begin coding. Once you have some basic understanding of how it all will work, then you'll know what you need to build, and then all that is left is to build it!\n",
    "\n",
    "In short:\n",
    "\n",
    "* Plan ahead--you'll thank yourself later!\n",
    "* Errors and broken code aren't bad, they're normal. \n",
    "* Keep working, and stay confident--you can do this!\n",
    "\n",
    "Good luck--we look forward to seeing your completed project!"
   ]
  },
  {
   "cell_type": "markdown",
   "metadata": {},
   "source": [
    "# Table of contents\n",
    "\n",
    "* [Outline](#Outline)\n",
    "* [Make tables](#Make-tables)\n",
    "* [Get weather](#Get-weather)\n",
    "* [Stats](#Stats)\n",
    "    * [Total goals](#Total-goals)\n",
    "    * [Wins](#Wins)\n",
    "    * [Rain win pct](#Rain-win-pct)\n",
    "    * [Total number of losses](#Total-number-of-losses)\n",
    "* [Histograms](#Histograms)\n",
    "* [Mongo](#Mongo)"
   ]
  },
  {
   "cell_type": "markdown",
   "metadata": {},
   "source": [
    "### Table: Matches\n",
    "\n",
    "* Match_ID (int): unique ID per match  \n",
    "* Div (str): identifies the division the match was played in (D1 = Bundesliga, D2 = Bundesliga 2, E0 = English Premier League)  \n",
    "* Season (int): Season the match took place in (usually covering the period of August till May of the following year)  \n",
    "* Date (str): Date of the match  \n",
    "* HomeTeam (str): Name of the home team  \n",
    "* AwayTeam (str): Name of the away team\n",
    "* FTHG (int) (Full Time Home Goals): Number of goals scored by the home team\n",
    "* FTAG (int) (Full Time Away Goals): Number of goals scored by the away team\n",
    "* FTR (str) (Full Time Result): 3-way result of the match (H = Home Win, D = Draw, A = Away Win)\n",
    "\n",
    "### Table: Teams\n",
    "\n",
    "* Season (str): Football season for which the data is valid\n",
    "* TeamName (str): Name of the team the data concerns\n",
    "* KaderHome (str): Number of Players in the squad\n",
    "* AvgAgeHome (str): Average age of players\n",
    "* ForeignPlayersHome (str): Number of foreign players (non-German, non-English respectively) playing for the team\n",
    "* OverallMarketValueHome (str): Overall market value of the team pre-season in EUR (based on data from transfermarkt.de)\n",
    "* AvgMarketValueHome (str): Average market value (per player) of the team pre-season in EUR (based on data from transfermarkt.de)\n",
    "* StadiumCapacity (str): Maximum stadium capacity of the team's home stadium\n",
    "\n",
    "### Table: Unique Teams\n",
    "\n",
    "* TeamName (str): Name of a team\n",
    "* Unique_Team_ID (int): Unique identifier for each team\n",
    "\n",
    "### Table: Teams_in_Matches\n",
    "\n",
    "*  Match_ID (int): Unique match ID\n",
    "* Unique_Team_ID (int): Unique team ID (This table is used to easily retrieve each match a given team has played in)"
   ]
  },
  {
   "cell_type": "markdown",
   "metadata": {},
   "source": [
    "## Outline\n",
    "* Get only info for 2011\n",
    "* Get weather info for all game days (berlin as location for all games)\n",
    "* Calculate total number of goals and total number of wins\n",
    "* Calculate win pct on rainy days (just means if it rained at all that day)\n",
    "* Make a hist of wins and losses\n",
    "* Store that hist as an IMG and put it in the database\n",
    "* Load the data into MongoDB  \n",
    "\n",
    "[Return to contents](#Table-of-contents)"
   ]
  },
  {
   "cell_type": "code",
   "execution_count": 67,
   "metadata": {},
   "outputs": [],
   "source": [
    "import time\n",
    "import datetime"
   ]
  },
  {
   "cell_type": "code",
   "execution_count": 172,
   "metadata": {},
   "outputs": [],
   "source": [
    "import json"
   ]
  },
  {
   "cell_type": "code",
   "execution_count": 74,
   "metadata": {},
   "outputs": [],
   "source": [
    "import requests"
   ]
  },
  {
   "cell_type": "code",
   "execution_count": 2,
   "metadata": {},
   "outputs": [],
   "source": [
    "import sqlite3\n",
    "conn = sqlite3.Connection('database.sqlite')\n",
    "c = conn.cursor()"
   ]
  },
  {
   "cell_type": "code",
   "execution_count": 3,
   "metadata": {},
   "outputs": [],
   "source": [
    "import pandas as pd"
   ]
  },
  {
   "cell_type": "code",
   "execution_count": 282,
   "metadata": {},
   "outputs": [],
   "source": [
    "from pandasql import sqldf\n",
    "pysqldf = lambda q: sqldf(q, globals())"
   ]
  },
  {
   "cell_type": "markdown",
   "metadata": {},
   "source": [
    "### Make tables"
   ]
  },
  {
   "cell_type": "code",
   "execution_count": 6,
   "metadata": {},
   "outputs": [
    {
     "data": {
      "text/plain": [
       "[('sqlite_sequence',),\n",
       " ('Matches',),\n",
       " ('Teams_in_Matches',),\n",
       " ('Teams',),\n",
       " ('Unique_Teams',)]"
      ]
     },
     "execution_count": 6,
     "metadata": {},
     "output_type": "execute_result"
    }
   ],
   "source": [
    "c.execute('''select name from sqlite_master where type = 'table';''').fetchall()"
   ]
  },
  {
   "cell_type": "code",
   "execution_count": 27,
   "metadata": {},
   "outputs": [
    {
     "data": {
      "text/plain": [
       "[('Matches',), ('Teams_in_Matches',), ('Teams',), ('Unique_Teams',)]"
      ]
     },
     "execution_count": 27,
     "metadata": {},
     "output_type": "execute_result"
    }
   ],
   "source": [
    "tablesa = c.execute('''select name from sqlite_master where type = 'table' AND \n",
    "    name NOT LIKE 'sqlite_%';''').fetchall()\n",
    "tablesa"
   ]
  },
  {
   "cell_type": "code",
   "execution_count": 28,
   "metadata": {},
   "outputs": [],
   "source": [
    "tables = []\n",
    "for table in tablesa:\n",
    "    tables.append(table[0]) "
   ]
  },
  {
   "cell_type": "code",
   "execution_count": 29,
   "metadata": {},
   "outputs": [
    {
     "data": {
      "text/plain": [
       "['Matches', 'Teams_in_Matches', 'Teams', 'Unique_Teams']"
      ]
     },
     "execution_count": 29,
     "metadata": {},
     "output_type": "execute_result"
    }
   ],
   "source": [
    "tables"
   ]
  },
  {
   "cell_type": "code",
   "execution_count": 37,
   "metadata": {},
   "outputs": [
    {
     "name": "stdout",
     "output_type": "stream",
     "text": [
      "Matches\n"
     ]
    }
   ],
   "source": [
    "query = 'select * from matches;'\n",
    "c.execute(query)\n",
    "df = pd.DataFrame(c.fetchall())\n",
    "df.columns = [x[0] for x in c.description]"
   ]
  },
  {
   "cell_type": "code",
   "execution_count": 38,
   "metadata": {},
   "outputs": [
    {
     "data": {
      "text/html": [
       "<div>\n",
       "<style scoped>\n",
       "    .dataframe tbody tr th:only-of-type {\n",
       "        vertical-align: middle;\n",
       "    }\n",
       "\n",
       "    .dataframe tbody tr th {\n",
       "        vertical-align: top;\n",
       "    }\n",
       "\n",
       "    .dataframe thead th {\n",
       "        text-align: right;\n",
       "    }\n",
       "</style>\n",
       "<table border=\"1\" class=\"dataframe\">\n",
       "  <thead>\n",
       "    <tr style=\"text-align: right;\">\n",
       "      <th></th>\n",
       "      <th>Match_ID</th>\n",
       "      <th>Div</th>\n",
       "      <th>Season</th>\n",
       "      <th>Date</th>\n",
       "      <th>HomeTeam</th>\n",
       "      <th>AwayTeam</th>\n",
       "      <th>FTHG</th>\n",
       "      <th>FTAG</th>\n",
       "      <th>FTR</th>\n",
       "    </tr>\n",
       "  </thead>\n",
       "  <tbody>\n",
       "    <tr>\n",
       "      <th>0</th>\n",
       "      <td>1</td>\n",
       "      <td>D2</td>\n",
       "      <td>2009</td>\n",
       "      <td>2010-04-04</td>\n",
       "      <td>Oberhausen</td>\n",
       "      <td>Kaiserslautern</td>\n",
       "      <td>2</td>\n",
       "      <td>1</td>\n",
       "      <td>H</td>\n",
       "    </tr>\n",
       "    <tr>\n",
       "      <th>1</th>\n",
       "      <td>2</td>\n",
       "      <td>D2</td>\n",
       "      <td>2009</td>\n",
       "      <td>2009-11-01</td>\n",
       "      <td>Munich 1860</td>\n",
       "      <td>Kaiserslautern</td>\n",
       "      <td>0</td>\n",
       "      <td>1</td>\n",
       "      <td>A</td>\n",
       "    </tr>\n",
       "    <tr>\n",
       "      <th>2</th>\n",
       "      <td>3</td>\n",
       "      <td>D2</td>\n",
       "      <td>2009</td>\n",
       "      <td>2009-10-04</td>\n",
       "      <td>Frankfurt FSV</td>\n",
       "      <td>Kaiserslautern</td>\n",
       "      <td>1</td>\n",
       "      <td>1</td>\n",
       "      <td>D</td>\n",
       "    </tr>\n",
       "    <tr>\n",
       "      <th>3</th>\n",
       "      <td>4</td>\n",
       "      <td>D2</td>\n",
       "      <td>2009</td>\n",
       "      <td>2010-02-21</td>\n",
       "      <td>Frankfurt FSV</td>\n",
       "      <td>Karlsruhe</td>\n",
       "      <td>2</td>\n",
       "      <td>1</td>\n",
       "      <td>H</td>\n",
       "    </tr>\n",
       "    <tr>\n",
       "      <th>4</th>\n",
       "      <td>5</td>\n",
       "      <td>D2</td>\n",
       "      <td>2009</td>\n",
       "      <td>2009-12-06</td>\n",
       "      <td>Ahlen</td>\n",
       "      <td>Karlsruhe</td>\n",
       "      <td>1</td>\n",
       "      <td>3</td>\n",
       "      <td>A</td>\n",
       "    </tr>\n",
       "  </tbody>\n",
       "</table>\n",
       "</div>"
      ],
      "text/plain": [
       "   Match_ID Div  Season        Date       HomeTeam        AwayTeam  FTHG  \\\n",
       "0         1  D2    2009  2010-04-04     Oberhausen  Kaiserslautern     2   \n",
       "1         2  D2    2009  2009-11-01    Munich 1860  Kaiserslautern     0   \n",
       "2         3  D2    2009  2009-10-04  Frankfurt FSV  Kaiserslautern     1   \n",
       "3         4  D2    2009  2010-02-21  Frankfurt FSV       Karlsruhe     2   \n",
       "4         5  D2    2009  2009-12-06          Ahlen       Karlsruhe     1   \n",
       "\n",
       "   FTAG FTR  \n",
       "0     1   H  \n",
       "1     1   A  \n",
       "2     1   D  \n",
       "3     1   H  \n",
       "4     3   A  "
      ]
     },
     "execution_count": 38,
     "metadata": {},
     "output_type": "execute_result"
    }
   ],
   "source": [
    "df.head()"
   ]
  },
  {
   "cell_type": "code",
   "execution_count": 70,
   "metadata": {},
   "outputs": [
    {
     "name": "stdout",
     "output_type": "stream",
     "text": [
      "992\n"
     ]
    },
    {
     "data": {
      "text/html": [
       "<div>\n",
       "<style scoped>\n",
       "    .dataframe tbody tr th:only-of-type {\n",
       "        vertical-align: middle;\n",
       "    }\n",
       "\n",
       "    .dataframe tbody tr th {\n",
       "        vertical-align: top;\n",
       "    }\n",
       "\n",
       "    .dataframe thead th {\n",
       "        text-align: right;\n",
       "    }\n",
       "</style>\n",
       "<table border=\"1\" class=\"dataframe\">\n",
       "  <thead>\n",
       "    <tr style=\"text-align: right;\">\n",
       "      <th></th>\n",
       "      <th>index</th>\n",
       "      <th>Match_ID</th>\n",
       "      <th>Div</th>\n",
       "      <th>Season</th>\n",
       "      <th>Date</th>\n",
       "      <th>HomeTeam</th>\n",
       "      <th>AwayTeam</th>\n",
       "      <th>FTHG</th>\n",
       "      <th>FTAG</th>\n",
       "      <th>FTR</th>\n",
       "    </tr>\n",
       "  </thead>\n",
       "  <tbody>\n",
       "    <tr>\n",
       "      <th>0</th>\n",
       "      <td>1091</td>\n",
       "      <td>1092</td>\n",
       "      <td>D1</td>\n",
       "      <td>2011</td>\n",
       "      <td>2012-03-31</td>\n",
       "      <td>Nurnberg</td>\n",
       "      <td>Bayern Munich</td>\n",
       "      <td>0</td>\n",
       "      <td>1</td>\n",
       "      <td>A</td>\n",
       "    </tr>\n",
       "    <tr>\n",
       "      <th>1</th>\n",
       "      <td>1092</td>\n",
       "      <td>1093</td>\n",
       "      <td>D1</td>\n",
       "      <td>2011</td>\n",
       "      <td>2011-12-11</td>\n",
       "      <td>Stuttgart</td>\n",
       "      <td>Bayern Munich</td>\n",
       "      <td>1</td>\n",
       "      <td>2</td>\n",
       "      <td>A</td>\n",
       "    </tr>\n",
       "    <tr>\n",
       "      <th>2</th>\n",
       "      <td>1093</td>\n",
       "      <td>1094</td>\n",
       "      <td>D1</td>\n",
       "      <td>2011</td>\n",
       "      <td>2011-08-13</td>\n",
       "      <td>Wolfsburg</td>\n",
       "      <td>Bayern Munich</td>\n",
       "      <td>0</td>\n",
       "      <td>1</td>\n",
       "      <td>A</td>\n",
       "    </tr>\n",
       "    <tr>\n",
       "      <th>3</th>\n",
       "      <td>1094</td>\n",
       "      <td>1095</td>\n",
       "      <td>D1</td>\n",
       "      <td>2011</td>\n",
       "      <td>2011-11-27</td>\n",
       "      <td>Mainz</td>\n",
       "      <td>Bayern Munich</td>\n",
       "      <td>3</td>\n",
       "      <td>2</td>\n",
       "      <td>H</td>\n",
       "    </tr>\n",
       "    <tr>\n",
       "      <th>4</th>\n",
       "      <td>1095</td>\n",
       "      <td>1096</td>\n",
       "      <td>D1</td>\n",
       "      <td>2011</td>\n",
       "      <td>2012-02-18</td>\n",
       "      <td>Freiburg</td>\n",
       "      <td>Bayern Munich</td>\n",
       "      <td>0</td>\n",
       "      <td>0</td>\n",
       "      <td>D</td>\n",
       "    </tr>\n",
       "  </tbody>\n",
       "</table>\n",
       "</div>"
      ],
      "text/plain": [
       "   index  Match_ID Div  Season        Date   HomeTeam       AwayTeam  FTHG  \\\n",
       "0   1091      1092  D1    2011  2012-03-31   Nurnberg  Bayern Munich     0   \n",
       "1   1092      1093  D1    2011  2011-12-11  Stuttgart  Bayern Munich     1   \n",
       "2   1093      1094  D1    2011  2011-08-13  Wolfsburg  Bayern Munich     0   \n",
       "3   1094      1095  D1    2011  2011-11-27      Mainz  Bayern Munich     3   \n",
       "4   1095      1096  D1    2011  2012-02-18   Freiburg  Bayern Munich     0   \n",
       "\n",
       "   FTAG FTR  \n",
       "0     1   A  \n",
       "1     2   A  \n",
       "2     1   A  \n",
       "3     2   H  \n",
       "4     0   D  "
      ]
     },
     "execution_count": 70,
     "metadata": {},
     "output_type": "execute_result"
    }
   ],
   "source": [
    "matchesdf = df.loc[df['Season'] == 2011]\n",
    "matchesdf.reset_index(inplace=True)\n",
    "print (len(matchesdf))\n",
    "matchesdf.head()"
   ]
  },
  {
   "cell_type": "markdown",
   "metadata": {},
   "source": [
    "[Return to contents](#Table-of-contents)"
   ]
  },
  {
   "cell_type": "markdown",
   "metadata": {},
   "source": [
    "### Get weather"
   ]
  },
  {
   "cell_type": "code",
   "execution_count": 106,
   "metadata": {
    "scrolled": true
   },
   "outputs": [
    {
     "data": {
      "text/plain": [
       "0      2012-03-31\n",
       "1      2011-12-11\n",
       "2      2011-08-13\n",
       "3      2011-11-27\n",
       "4      2012-02-18\n",
       "5      2012-01-20\n",
       "6      2012-02-04\n",
       "7      2012-04-21\n",
       "8      2011-09-18\n",
       "9      2011-10-23\n",
       "10     2011-10-01\n",
       "11     2012-03-03\n",
       "12     2011-08-27\n",
       "13     2012-03-17\n",
       "14     2011-11-06\n",
       "15     2012-05-05\n",
       "16     2012-04-11\n",
       "17     2011-08-27\n",
       "18     2011-12-17\n",
       "19     2012-02-18\n",
       "20     2012-02-03\n",
       "21     2011-08-13\n",
       "22     2011-10-29\n",
       "23     2012-01-22\n",
       "24     2011-12-03\n",
       "25     2012-04-14\n",
       "26     2011-09-18\n",
       "27     2012-03-25\n",
       "28     2012-03-10\n",
       "29     2012-04-07\n",
       "          ...    \n",
       "962    2012-04-28\n",
       "963    2012-04-28\n",
       "964    2012-04-28\n",
       "965    2012-04-29\n",
       "966    2012-04-29\n",
       "967    2012-04-30\n",
       "968    2012-05-01\n",
       "969    2012-05-01\n",
       "970    2012-05-02\n",
       "971    2012-05-02\n",
       "972    2012-05-05\n",
       "973    2012-05-06\n",
       "974    2012-05-06\n",
       "975    2012-05-06\n",
       "976    2012-05-06\n",
       "977    2012-05-06\n",
       "978    2012-05-06\n",
       "979    2012-05-06\n",
       "980    2012-05-07\n",
       "981    2012-05-08\n",
       "982    2012-05-13\n",
       "983    2012-05-13\n",
       "984    2012-05-13\n",
       "985    2012-05-13\n",
       "986    2012-05-13\n",
       "987    2012-05-13\n",
       "988    2012-05-13\n",
       "989    2012-05-13\n",
       "990    2012-05-13\n",
       "991    2012-05-13\n",
       "Name: Date, Length: 992, dtype: object"
      ]
     },
     "execution_count": 106,
     "metadata": {},
     "output_type": "execute_result"
    }
   ],
   "source": [
    "matchesdf.Date"
   ]
  },
  {
   "cell_type": "code",
   "execution_count": 264,
   "metadata": {},
   "outputs": [
    {
     "data": {
      "text/plain": [
       "'2012-05-05'"
      ]
     },
     "execution_count": 264,
     "metadata": {},
     "output_type": "execute_result"
    }
   ],
   "source": [
    "s = matchesdf.Date[15]\n",
    "s"
   ]
  },
  {
   "cell_type": "code",
   "execution_count": 265,
   "metadata": {},
   "outputs": [],
   "source": [
    "date = int(str(time.mktime(datetime.datetime.strptime(s, \"%Y-%m-%d\").timetuple())).split('.')[0])"
   ]
  },
  {
   "cell_type": "code",
   "execution_count": 266,
   "metadata": {},
   "outputs": [
    {
     "data": {
      "text/plain": [
       "1336190400"
      ]
     },
     "execution_count": 266,
     "metadata": {},
     "output_type": "execute_result"
    }
   ],
   "source": [
    "date "
   ]
  },
  {
   "cell_type": "code",
   "execution_count": 267,
   "metadata": {},
   "outputs": [
    {
     "data": {
      "text/plain": [
       "'https://api.darksky.net/forecast/b9523226a8bb03c346fdfe0c4cd8b86a/52.514456, 13.398062,1336190400?exclude=currently,minutely,hourly,flags'"
      ]
     },
     "execution_count": 267,
     "metadata": {},
     "output_type": "execute_result"
    }
   ],
   "source": [
    "base_url = 'https://api.darksky.net/forecast/b9523226a8bb03c346fdfe0c4cd8b86a/52.514456, 13.398062,'\n",
    "var = '{}?exclude=currently,minutely,hourly,flags'.format(date)\n",
    "url = ''.join([base_url,var])\n",
    "url"
   ]
  },
  {
   "cell_type": "code",
   "execution_count": 268,
   "metadata": {},
   "outputs": [],
   "source": [
    "response = requests.get(url)"
   ]
  },
  {
   "cell_type": "code",
   "execution_count": 269,
   "metadata": {},
   "outputs": [
    {
     "data": {
      "text/plain": [
       "200"
      ]
     },
     "execution_count": 269,
     "metadata": {},
     "output_type": "execute_result"
    }
   ],
   "source": [
    "response.status_code"
   ]
  },
  {
   "cell_type": "code",
   "execution_count": 270,
   "metadata": {},
   "outputs": [
    {
     "name": "stdout",
     "output_type": "stream",
     "text": [
      "{\"latitude\":52.514456,\"longitude\":13.398062,\"timezone\":\"Europe/Berlin\",\"daily\":{\"data\":[{\"time\":1336168800,\"summary\":\"Possible light rain until morning, starting again in the evening.\",\"icon\":\"rain\",\"sunriseTime\":1336188462,\"sunsetTime\":1336243259,\"moonPhase\":0.49,\"precipIntensity\":0.0003,\"precipIntensityMax\":0.0033,\"precipIntensityMaxTime\":1336251600,\"precipProbability\":0.57,\"precipType\":\"rain\",\"temperatureHigh\":55.82,\"temperatureHighTime\":1336197600,\"temperatureLow\":41.09,\"temperatureLowTime\":1336276800,\"apparentTemperatureHigh\":55.82,\"apparentTemperatureHighTime\":1336197600,\"apparentTemperatureLow\":37.22,\"apparentTemperatureLowTime\":1336276800,\"dewPoint\":44.43,\"humidity\":0.75,\"windSpeed\":5.98,\"windGust\":10.01,\"windGustTime\":1336230000,\"windBearing\":350,\"cloudCover\":0.75,\"uvIndex\":5,\"uvIndexTime\":1336215600,\"visibility\":5.973,\"temperatureMin\":43.63,\"temperatureMinTime\":1336255200,\"temperatureMax\":58.02,\"temperatureMaxTime\":1336168800,\"apparentTemperatureMin\":40.7,\"apparentTemperatureMinTime\":1336248000,\"apparentTemperatureMax\":58.02,\"apparentTemperatureMaxTime\":1336168800}]},\"offset\":2}\n",
      "\n"
     ]
    }
   ],
   "source": [
    "print(response.text)"
   ]
  },
  {
   "cell_type": "code",
   "execution_count": 128,
   "metadata": {},
   "outputs": [
    {
     "data": {
      "text/plain": [
       "{'Date': 'Thu, 13 Jun 2019 17:52:19 GMT',\n",
       " 'Content-Type': 'application/json; charset=utf-8',\n",
       " 'Transfer-Encoding': 'chunked',\n",
       " 'Connection': 'keep-alive',\n",
       " 'X-Authentication-Time': '2ms',\n",
       " 'Cache-Control': 'max-age=3600',\n",
       " 'Expires': 'Thu, 13 Jun 2019 18:52:19 +0000',\n",
       " 'X-Forecast-API-Calls': '10',\n",
       " 'X-Content-Type-Options': 'nosniff',\n",
       " 'X-Response-Time': '117.624ms',\n",
       " 'Vary': 'Accept-Encoding',\n",
       " 'Content-Encoding': 'gzip'}"
      ]
     },
     "execution_count": 128,
     "metadata": {},
     "output_type": "execute_result"
    }
   ],
   "source": [
    "dict(response.headers)"
   ]
  },
  {
   "cell_type": "code",
   "execution_count": 161,
   "metadata": {},
   "outputs": [
    {
     "data": {
      "text/plain": [
       "str"
      ]
     },
     "execution_count": 161,
     "metadata": {},
     "output_type": "execute_result"
    }
   ],
   "source": [
    "type(response.text)"
   ]
  },
  {
   "cell_type": "code",
   "execution_count": 166,
   "metadata": {},
   "outputs": [
    {
     "data": {
      "text/plain": [
       "method"
      ]
     },
     "execution_count": 166,
     "metadata": {},
     "output_type": "execute_result"
    }
   ],
   "source": [
    "type(response.json)"
   ]
  },
  {
   "cell_type": "code",
   "execution_count": 176,
   "metadata": {},
   "outputs": [
    {
     "data": {
      "text/plain": [
       "'utf-8'"
      ]
     },
     "execution_count": 176,
     "metadata": {},
     "output_type": "execute_result"
    }
   ],
   "source": [
    "response.encoding"
   ]
  },
  {
   "cell_type": "code",
   "execution_count": 182,
   "metadata": {},
   "outputs": [],
   "source": [
    "a = json.loads(response.text)"
   ]
  },
  {
   "cell_type": "code",
   "execution_count": 190,
   "metadata": {},
   "outputs": [
    {
     "data": {
      "text/plain": [
       "dict_keys(['latitude', 'longitude', 'timezone', 'daily', 'offset'])"
      ]
     },
     "execution_count": 190,
     "metadata": {},
     "output_type": "execute_result"
    }
   ],
   "source": [
    "a.keys()"
   ]
  },
  {
   "cell_type": "code",
   "execution_count": 210,
   "metadata": {},
   "outputs": [
    {
     "data": {
      "text/plain": [
       "True"
      ]
     },
     "execution_count": 210,
     "metadata": {},
     "output_type": "execute_result"
    }
   ],
   "source": [
    "'rain' in a['daily']['data'][0]['summary'].split()"
   ]
  },
  {
   "cell_type": "code",
   "execution_count": 211,
   "metadata": {},
   "outputs": [
    {
     "data": {
      "text/plain": [
       "'rain'"
      ]
     },
     "execution_count": 211,
     "metadata": {},
     "output_type": "execute_result"
    }
   ],
   "source": [
    "a['daily']['data'][0]['icon']"
   ]
  },
  {
   "cell_type": "code",
   "execution_count": 249,
   "metadata": {},
   "outputs": [
    {
     "data": {
      "text/html": [
       "<div>\n",
       "<style scoped>\n",
       "    .dataframe tbody tr th:only-of-type {\n",
       "        vertical-align: middle;\n",
       "    }\n",
       "\n",
       "    .dataframe tbody tr th {\n",
       "        vertical-align: top;\n",
       "    }\n",
       "\n",
       "    .dataframe thead th {\n",
       "        text-align: right;\n",
       "    }\n",
       "</style>\n",
       "<table border=\"1\" class=\"dataframe\">\n",
       "  <thead>\n",
       "    <tr style=\"text-align: right;\">\n",
       "      <th></th>\n",
       "      <th>index</th>\n",
       "      <th>Match_ID</th>\n",
       "      <th>Div</th>\n",
       "      <th>Season</th>\n",
       "      <th>Date</th>\n",
       "      <th>HomeTeam</th>\n",
       "      <th>AwayTeam</th>\n",
       "      <th>FTHG</th>\n",
       "      <th>FTAG</th>\n",
       "      <th>FTR</th>\n",
       "    </tr>\n",
       "  </thead>\n",
       "  <tbody>\n",
       "    <tr>\n",
       "      <th>13</th>\n",
       "      <td>1104</td>\n",
       "      <td>1105</td>\n",
       "      <td>D1</td>\n",
       "      <td>2011</td>\n",
       "      <td>2012-03-17</td>\n",
       "      <td>Hertha</td>\n",
       "      <td>Bayern Munich</td>\n",
       "      <td>0</td>\n",
       "      <td>6</td>\n",
       "      <td>A</td>\n",
       "    </tr>\n",
       "    <tr>\n",
       "      <th>14</th>\n",
       "      <td>1105</td>\n",
       "      <td>1106</td>\n",
       "      <td>D1</td>\n",
       "      <td>2011</td>\n",
       "      <td>2011-11-06</td>\n",
       "      <td>Augsburg</td>\n",
       "      <td>Bayern Munich</td>\n",
       "      <td>1</td>\n",
       "      <td>2</td>\n",
       "      <td>A</td>\n",
       "    </tr>\n",
       "    <tr>\n",
       "      <th>15</th>\n",
       "      <td>1106</td>\n",
       "      <td>1107</td>\n",
       "      <td>D1</td>\n",
       "      <td>2011</td>\n",
       "      <td>2012-05-05</td>\n",
       "      <td>FC Koln</td>\n",
       "      <td>Bayern Munich</td>\n",
       "      <td>1</td>\n",
       "      <td>4</td>\n",
       "      <td>A</td>\n",
       "    </tr>\n",
       "    <tr>\n",
       "      <th>16</th>\n",
       "      <td>1107</td>\n",
       "      <td>1108</td>\n",
       "      <td>D1</td>\n",
       "      <td>2011</td>\n",
       "      <td>2012-04-11</td>\n",
       "      <td>Dortmund</td>\n",
       "      <td>Bayern Munich</td>\n",
       "      <td>1</td>\n",
       "      <td>0</td>\n",
       "      <td>H</td>\n",
       "    </tr>\n",
       "    <tr>\n",
       "      <th>17</th>\n",
       "      <td>1108</td>\n",
       "      <td>1109</td>\n",
       "      <td>D1</td>\n",
       "      <td>2011</td>\n",
       "      <td>2011-08-27</td>\n",
       "      <td>Leverkusen</td>\n",
       "      <td>Dortmund</td>\n",
       "      <td>0</td>\n",
       "      <td>0</td>\n",
       "      <td>D</td>\n",
       "    </tr>\n",
       "    <tr>\n",
       "      <th>18</th>\n",
       "      <td>1109</td>\n",
       "      <td>1110</td>\n",
       "      <td>D1</td>\n",
       "      <td>2011</td>\n",
       "      <td>2011-12-17</td>\n",
       "      <td>Freiburg</td>\n",
       "      <td>Dortmund</td>\n",
       "      <td>1</td>\n",
       "      <td>4</td>\n",
       "      <td>A</td>\n",
       "    </tr>\n",
       "  </tbody>\n",
       "</table>\n",
       "</div>"
      ],
      "text/plain": [
       "    index  Match_ID Div  Season        Date    HomeTeam       AwayTeam  FTHG  \\\n",
       "13   1104      1105  D1    2011  2012-03-17      Hertha  Bayern Munich     0   \n",
       "14   1105      1106  D1    2011  2011-11-06    Augsburg  Bayern Munich     1   \n",
       "15   1106      1107  D1    2011  2012-05-05     FC Koln  Bayern Munich     1   \n",
       "16   1107      1108  D1    2011  2012-04-11    Dortmund  Bayern Munich     1   \n",
       "17   1108      1109  D1    2011  2011-08-27  Leverkusen       Dortmund     0   \n",
       "18   1109      1110  D1    2011  2011-12-17    Freiburg       Dortmund     1   \n",
       "\n",
       "    FTAG FTR  \n",
       "13     6   A  \n",
       "14     2   A  \n",
       "15     4   A  \n",
       "16     0   H  \n",
       "17     0   D  \n",
       "18     4   A  "
      ]
     },
     "execution_count": 249,
     "metadata": {},
     "output_type": "execute_result"
    }
   ],
   "source": [
    "testdf = matchesdf.loc[13:18]\n",
    "testdf"
   ]
  },
  {
   "cell_type": "code",
   "execution_count": 246,
   "metadata": {},
   "outputs": [
    {
     "data": {
      "text/html": [
       "<div>\n",
       "<style scoped>\n",
       "    .dataframe tbody tr th:only-of-type {\n",
       "        vertical-align: middle;\n",
       "    }\n",
       "\n",
       "    .dataframe tbody tr th {\n",
       "        vertical-align: top;\n",
       "    }\n",
       "\n",
       "    .dataframe thead th {\n",
       "        text-align: right;\n",
       "    }\n",
       "</style>\n",
       "<table border=\"1\" class=\"dataframe\">\n",
       "  <thead>\n",
       "    <tr style=\"text-align: right;\">\n",
       "      <th></th>\n",
       "      <th>index</th>\n",
       "      <th>Match_ID</th>\n",
       "      <th>Div</th>\n",
       "      <th>Season</th>\n",
       "      <th>Date</th>\n",
       "      <th>HomeTeam</th>\n",
       "      <th>AwayTeam</th>\n",
       "      <th>FTHG</th>\n",
       "      <th>FTAG</th>\n",
       "      <th>FTR</th>\n",
       "    </tr>\n",
       "  </thead>\n",
       "  <tbody>\n",
       "    <tr>\n",
       "      <th>13</th>\n",
       "      <td>1104</td>\n",
       "      <td>1105</td>\n",
       "      <td>D1</td>\n",
       "      <td>2011</td>\n",
       "      <td>2012-03-17</td>\n",
       "      <td>Hertha</td>\n",
       "      <td>Bayern Munich</td>\n",
       "      <td>0</td>\n",
       "      <td>6</td>\n",
       "      <td>A</td>\n",
       "    </tr>\n",
       "    <tr>\n",
       "      <th>14</th>\n",
       "      <td>1105</td>\n",
       "      <td>1106</td>\n",
       "      <td>D1</td>\n",
       "      <td>2011</td>\n",
       "      <td>2011-11-06</td>\n",
       "      <td>Augsburg</td>\n",
       "      <td>Bayern Munich</td>\n",
       "      <td>1</td>\n",
       "      <td>2</td>\n",
       "      <td>A</td>\n",
       "    </tr>\n",
       "    <tr>\n",
       "      <th>15</th>\n",
       "      <td>1106</td>\n",
       "      <td>1107</td>\n",
       "      <td>D1</td>\n",
       "      <td>2011</td>\n",
       "      <td>2012-05-05</td>\n",
       "      <td>FC Koln</td>\n",
       "      <td>Bayern Munich</td>\n",
       "      <td>1</td>\n",
       "      <td>4</td>\n",
       "      <td>A</td>\n",
       "    </tr>\n",
       "    <tr>\n",
       "      <th>16</th>\n",
       "      <td>1107</td>\n",
       "      <td>1108</td>\n",
       "      <td>D1</td>\n",
       "      <td>2011</td>\n",
       "      <td>2012-04-11</td>\n",
       "      <td>Dortmund</td>\n",
       "      <td>Bayern Munich</td>\n",
       "      <td>1</td>\n",
       "      <td>0</td>\n",
       "      <td>H</td>\n",
       "    </tr>\n",
       "    <tr>\n",
       "      <th>17</th>\n",
       "      <td>1108</td>\n",
       "      <td>1109</td>\n",
       "      <td>D1</td>\n",
       "      <td>2011</td>\n",
       "      <td>2011-08-27</td>\n",
       "      <td>Leverkusen</td>\n",
       "      <td>Dortmund</td>\n",
       "      <td>0</td>\n",
       "      <td>0</td>\n",
       "      <td>D</td>\n",
       "    </tr>\n",
       "    <tr>\n",
       "      <th>18</th>\n",
       "      <td>1109</td>\n",
       "      <td>1110</td>\n",
       "      <td>D1</td>\n",
       "      <td>2011</td>\n",
       "      <td>2011-12-17</td>\n",
       "      <td>Freiburg</td>\n",
       "      <td>Dortmund</td>\n",
       "      <td>1</td>\n",
       "      <td>4</td>\n",
       "      <td>A</td>\n",
       "    </tr>\n",
       "  </tbody>\n",
       "</table>\n",
       "</div>"
      ],
      "text/plain": [
       "    index  Match_ID Div  Season        Date    HomeTeam       AwayTeam  FTHG  \\\n",
       "13   1104      1105  D1    2011  2012-03-17      Hertha  Bayern Munich     0   \n",
       "14   1105      1106  D1    2011  2011-11-06    Augsburg  Bayern Munich     1   \n",
       "15   1106      1107  D1    2011  2012-05-05     FC Koln  Bayern Munich     1   \n",
       "16   1107      1108  D1    2011  2012-04-11    Dortmund  Bayern Munich     1   \n",
       "17   1108      1109  D1    2011  2011-08-27  Leverkusen       Dortmund     0   \n",
       "18   1109      1110  D1    2011  2011-12-17    Freiburg       Dortmund     1   \n",
       "\n",
       "    FTAG FTR  \n",
       "13     6   A  \n",
       "14     2   A  \n",
       "15     4   A  \n",
       "16     0   H  \n",
       "17     0   D  \n",
       "18     4   A  "
      ]
     },
     "execution_count": 246,
     "metadata": {},
     "output_type": "execute_result"
    }
   ],
   "source": [
    "testdf"
   ]
  },
  {
   "cell_type": "code",
   "execution_count": 261,
   "metadata": {},
   "outputs": [],
   "source": [
    "class weather_getter():\n",
    "\n",
    "    def get_weather(df):\n",
    "        rain = []\n",
    "        base_url = 'https://api.darksky.net/forecast/b9523226a8bb03c346fdfe0c4cd8b86a/52.514456, 13.398062,'\n",
    "        for date in df.Date:\n",
    "            s = date\n",
    "            timestamp = int(str(time.mktime(datetime.datetime.strptime(s, \"%Y-%m-%d\").timetuple())).split('.')[0])\n",
    "            var = '{}?exclude=currently,minutely,hourly,flags'.format(timestamp)\n",
    "            url = ''.join([base_url,var])\n",
    "            response = requests.get(url)\n",
    "            js = json.loads(response.text)\n",
    "            rain.append('rain' in js['daily']['data'][0]['summary'].split())\n",
    "        df['Rain'] = rain\n",
    "        "
   ]
  },
  {
   "cell_type": "code",
   "execution_count": 258,
   "metadata": {},
   "outputs": [],
   "source": [
    "weather = weather_getter()"
   ]
  },
  {
   "cell_type": "code",
   "execution_count": 262,
   "metadata": {},
   "outputs": [
    {
     "name": "stderr",
     "output_type": "stream",
     "text": [
      "C:\\Users\\lraic\\Anaconda3\\envs\\learn-env\\lib\\site-packages\\ipykernel_launcher.py:13: SettingWithCopyWarning: \n",
      "A value is trying to be set on a copy of a slice from a DataFrame.\n",
      "Try using .loc[row_indexer,col_indexer] = value instead\n",
      "\n",
      "See the caveats in the documentation: http://pandas.pydata.org/pandas-docs/stable/indexing.html#indexing-view-versus-copy\n",
      "  del sys.path[0]\n"
     ]
    }
   ],
   "source": [
    "weather_getter.get_weather(df=testdf)"
   ]
  },
  {
   "cell_type": "code",
   "execution_count": 263,
   "metadata": {},
   "outputs": [
    {
     "data": {
      "text/html": [
       "<div>\n",
       "<style scoped>\n",
       "    .dataframe tbody tr th:only-of-type {\n",
       "        vertical-align: middle;\n",
       "    }\n",
       "\n",
       "    .dataframe tbody tr th {\n",
       "        vertical-align: top;\n",
       "    }\n",
       "\n",
       "    .dataframe thead th {\n",
       "        text-align: right;\n",
       "    }\n",
       "</style>\n",
       "<table border=\"1\" class=\"dataframe\">\n",
       "  <thead>\n",
       "    <tr style=\"text-align: right;\">\n",
       "      <th></th>\n",
       "      <th>index</th>\n",
       "      <th>Match_ID</th>\n",
       "      <th>Div</th>\n",
       "      <th>Season</th>\n",
       "      <th>Date</th>\n",
       "      <th>HomeTeam</th>\n",
       "      <th>AwayTeam</th>\n",
       "      <th>FTHG</th>\n",
       "      <th>FTAG</th>\n",
       "      <th>FTR</th>\n",
       "      <th>Rain</th>\n",
       "    </tr>\n",
       "  </thead>\n",
       "  <tbody>\n",
       "    <tr>\n",
       "      <th>13</th>\n",
       "      <td>1104</td>\n",
       "      <td>1105</td>\n",
       "      <td>D1</td>\n",
       "      <td>2011</td>\n",
       "      <td>2012-03-17</td>\n",
       "      <td>Hertha</td>\n",
       "      <td>Bayern Munich</td>\n",
       "      <td>0</td>\n",
       "      <td>6</td>\n",
       "      <td>A</td>\n",
       "      <td>False</td>\n",
       "    </tr>\n",
       "    <tr>\n",
       "      <th>14</th>\n",
       "      <td>1105</td>\n",
       "      <td>1106</td>\n",
       "      <td>D1</td>\n",
       "      <td>2011</td>\n",
       "      <td>2011-11-06</td>\n",
       "      <td>Augsburg</td>\n",
       "      <td>Bayern Munich</td>\n",
       "      <td>1</td>\n",
       "      <td>2</td>\n",
       "      <td>A</td>\n",
       "      <td>False</td>\n",
       "    </tr>\n",
       "    <tr>\n",
       "      <th>15</th>\n",
       "      <td>1106</td>\n",
       "      <td>1107</td>\n",
       "      <td>D1</td>\n",
       "      <td>2011</td>\n",
       "      <td>2012-05-05</td>\n",
       "      <td>FC Koln</td>\n",
       "      <td>Bayern Munich</td>\n",
       "      <td>1</td>\n",
       "      <td>4</td>\n",
       "      <td>A</td>\n",
       "      <td>True</td>\n",
       "    </tr>\n",
       "    <tr>\n",
       "      <th>16</th>\n",
       "      <td>1107</td>\n",
       "      <td>1108</td>\n",
       "      <td>D1</td>\n",
       "      <td>2011</td>\n",
       "      <td>2012-04-11</td>\n",
       "      <td>Dortmund</td>\n",
       "      <td>Bayern Munich</td>\n",
       "      <td>1</td>\n",
       "      <td>0</td>\n",
       "      <td>H</td>\n",
       "      <td>False</td>\n",
       "    </tr>\n",
       "    <tr>\n",
       "      <th>17</th>\n",
       "      <td>1108</td>\n",
       "      <td>1109</td>\n",
       "      <td>D1</td>\n",
       "      <td>2011</td>\n",
       "      <td>2011-08-27</td>\n",
       "      <td>Leverkusen</td>\n",
       "      <td>Dortmund</td>\n",
       "      <td>0</td>\n",
       "      <td>0</td>\n",
       "      <td>D</td>\n",
       "      <td>True</td>\n",
       "    </tr>\n",
       "    <tr>\n",
       "      <th>18</th>\n",
       "      <td>1109</td>\n",
       "      <td>1110</td>\n",
       "      <td>D1</td>\n",
       "      <td>2011</td>\n",
       "      <td>2011-12-17</td>\n",
       "      <td>Freiburg</td>\n",
       "      <td>Dortmund</td>\n",
       "      <td>1</td>\n",
       "      <td>4</td>\n",
       "      <td>A</td>\n",
       "      <td>True</td>\n",
       "    </tr>\n",
       "  </tbody>\n",
       "</table>\n",
       "</div>"
      ],
      "text/plain": [
       "    index  Match_ID Div  Season        Date    HomeTeam       AwayTeam  FTHG  \\\n",
       "13   1104      1105  D1    2011  2012-03-17      Hertha  Bayern Munich     0   \n",
       "14   1105      1106  D1    2011  2011-11-06    Augsburg  Bayern Munich     1   \n",
       "15   1106      1107  D1    2011  2012-05-05     FC Koln  Bayern Munich     1   \n",
       "16   1107      1108  D1    2011  2012-04-11    Dortmund  Bayern Munich     1   \n",
       "17   1108      1109  D1    2011  2011-08-27  Leverkusen       Dortmund     0   \n",
       "18   1109      1110  D1    2011  2011-12-17    Freiburg       Dortmund     1   \n",
       "\n",
       "    FTAG FTR   Rain  \n",
       "13     6   A  False  \n",
       "14     2   A  False  \n",
       "15     4   A   True  \n",
       "16     0   H  False  \n",
       "17     0   D   True  \n",
       "18     4   A   True  "
      ]
     },
     "execution_count": 263,
     "metadata": {},
     "output_type": "execute_result"
    }
   ],
   "source": [
    "testdf"
   ]
  },
  {
   "cell_type": "code",
   "execution_count": 386,
   "metadata": {},
   "outputs": [
    {
     "name": "stderr",
     "output_type": "stream",
     "text": [
      "C:\\Users\\lraic\\Anaconda3\\envs\\learn-env\\lib\\site-packages\\ipykernel_launcher.py:13: SettingWithCopyWarning: \n",
      "A value is trying to be set on a copy of a slice from a DataFrame.\n",
      "Try using .loc[row_indexer,col_indexer] = value instead\n",
      "\n",
      "See the caveats in the documentation: http://pandas.pydata.org/pandas-docs/stable/indexing.html#indexing-view-versus-copy\n",
      "  del sys.path[0]\n"
     ]
    }
   ],
   "source": [
    "weather_getter.get_weather(df=matchesdf)"
   ]
  },
  {
   "cell_type": "code",
   "execution_count": 388,
   "metadata": {},
   "outputs": [
    {
     "data": {
      "text/html": [
       "<div>\n",
       "<style scoped>\n",
       "    .dataframe tbody tr th:only-of-type {\n",
       "        vertical-align: middle;\n",
       "    }\n",
       "\n",
       "    .dataframe tbody tr th {\n",
       "        vertical-align: top;\n",
       "    }\n",
       "\n",
       "    .dataframe thead th {\n",
       "        text-align: right;\n",
       "    }\n",
       "</style>\n",
       "<table border=\"1\" class=\"dataframe\">\n",
       "  <thead>\n",
       "    <tr style=\"text-align: right;\">\n",
       "      <th></th>\n",
       "      <th>index</th>\n",
       "      <th>Match_ID</th>\n",
       "      <th>Div</th>\n",
       "      <th>Season</th>\n",
       "      <th>Date</th>\n",
       "      <th>HomeTeam</th>\n",
       "      <th>AwayTeam</th>\n",
       "      <th>FTHG</th>\n",
       "      <th>FTAG</th>\n",
       "      <th>FTR</th>\n",
       "      <th>Rain</th>\n",
       "    </tr>\n",
       "  </thead>\n",
       "  <tbody>\n",
       "    <tr>\n",
       "      <th>10</th>\n",
       "      <td>1101</td>\n",
       "      <td>1102</td>\n",
       "      <td>D1</td>\n",
       "      <td>2011</td>\n",
       "      <td>2011-10-01</td>\n",
       "      <td>Hoffenheim</td>\n",
       "      <td>Bayern Munich</td>\n",
       "      <td>0</td>\n",
       "      <td>0</td>\n",
       "      <td>D</td>\n",
       "      <td>False</td>\n",
       "    </tr>\n",
       "    <tr>\n",
       "      <th>11</th>\n",
       "      <td>1102</td>\n",
       "      <td>1103</td>\n",
       "      <td>D1</td>\n",
       "      <td>2011</td>\n",
       "      <td>2012-03-03</td>\n",
       "      <td>Leverkusen</td>\n",
       "      <td>Bayern Munich</td>\n",
       "      <td>2</td>\n",
       "      <td>0</td>\n",
       "      <td>H</td>\n",
       "      <td>False</td>\n",
       "    </tr>\n",
       "    <tr>\n",
       "      <th>12</th>\n",
       "      <td>1103</td>\n",
       "      <td>1104</td>\n",
       "      <td>D1</td>\n",
       "      <td>2011</td>\n",
       "      <td>2011-08-27</td>\n",
       "      <td>Kaiserslautern</td>\n",
       "      <td>Bayern Munich</td>\n",
       "      <td>0</td>\n",
       "      <td>3</td>\n",
       "      <td>A</td>\n",
       "      <td>True</td>\n",
       "    </tr>\n",
       "    <tr>\n",
       "      <th>13</th>\n",
       "      <td>1104</td>\n",
       "      <td>1105</td>\n",
       "      <td>D1</td>\n",
       "      <td>2011</td>\n",
       "      <td>2012-03-17</td>\n",
       "      <td>Hertha</td>\n",
       "      <td>Bayern Munich</td>\n",
       "      <td>0</td>\n",
       "      <td>6</td>\n",
       "      <td>A</td>\n",
       "      <td>False</td>\n",
       "    </tr>\n",
       "    <tr>\n",
       "      <th>14</th>\n",
       "      <td>1105</td>\n",
       "      <td>1106</td>\n",
       "      <td>D1</td>\n",
       "      <td>2011</td>\n",
       "      <td>2011-11-06</td>\n",
       "      <td>Augsburg</td>\n",
       "      <td>Bayern Munich</td>\n",
       "      <td>1</td>\n",
       "      <td>2</td>\n",
       "      <td>A</td>\n",
       "      <td>False</td>\n",
       "    </tr>\n",
       "    <tr>\n",
       "      <th>15</th>\n",
       "      <td>1106</td>\n",
       "      <td>1107</td>\n",
       "      <td>D1</td>\n",
       "      <td>2011</td>\n",
       "      <td>2012-05-05</td>\n",
       "      <td>FC Koln</td>\n",
       "      <td>Bayern Munich</td>\n",
       "      <td>1</td>\n",
       "      <td>4</td>\n",
       "      <td>A</td>\n",
       "      <td>True</td>\n",
       "    </tr>\n",
       "    <tr>\n",
       "      <th>16</th>\n",
       "      <td>1107</td>\n",
       "      <td>1108</td>\n",
       "      <td>D1</td>\n",
       "      <td>2011</td>\n",
       "      <td>2012-04-11</td>\n",
       "      <td>Dortmund</td>\n",
       "      <td>Bayern Munich</td>\n",
       "      <td>1</td>\n",
       "      <td>0</td>\n",
       "      <td>H</td>\n",
       "      <td>False</td>\n",
       "    </tr>\n",
       "    <tr>\n",
       "      <th>17</th>\n",
       "      <td>1108</td>\n",
       "      <td>1109</td>\n",
       "      <td>D1</td>\n",
       "      <td>2011</td>\n",
       "      <td>2011-08-27</td>\n",
       "      <td>Leverkusen</td>\n",
       "      <td>Dortmund</td>\n",
       "      <td>0</td>\n",
       "      <td>0</td>\n",
       "      <td>D</td>\n",
       "      <td>True</td>\n",
       "    </tr>\n",
       "    <tr>\n",
       "      <th>18</th>\n",
       "      <td>1109</td>\n",
       "      <td>1110</td>\n",
       "      <td>D1</td>\n",
       "      <td>2011</td>\n",
       "      <td>2011-12-17</td>\n",
       "      <td>Freiburg</td>\n",
       "      <td>Dortmund</td>\n",
       "      <td>1</td>\n",
       "      <td>4</td>\n",
       "      <td>A</td>\n",
       "      <td>True</td>\n",
       "    </tr>\n",
       "    <tr>\n",
       "      <th>19</th>\n",
       "      <td>1110</td>\n",
       "      <td>1111</td>\n",
       "      <td>D1</td>\n",
       "      <td>2011</td>\n",
       "      <td>2012-02-18</td>\n",
       "      <td>Hertha</td>\n",
       "      <td>Dortmund</td>\n",
       "      <td>0</td>\n",
       "      <td>1</td>\n",
       "      <td>A</td>\n",
       "      <td>False</td>\n",
       "    </tr>\n",
       "    <tr>\n",
       "      <th>20</th>\n",
       "      <td>1111</td>\n",
       "      <td>1112</td>\n",
       "      <td>D1</td>\n",
       "      <td>2011</td>\n",
       "      <td>2012-02-03</td>\n",
       "      <td>Nurnberg</td>\n",
       "      <td>Dortmund</td>\n",
       "      <td>0</td>\n",
       "      <td>2</td>\n",
       "      <td>A</td>\n",
       "      <td>False</td>\n",
       "    </tr>\n",
       "  </tbody>\n",
       "</table>\n",
       "</div>"
      ],
      "text/plain": [
       "    index  Match_ID Div  Season        Date        HomeTeam       AwayTeam  \\\n",
       "10   1101      1102  D1    2011  2011-10-01      Hoffenheim  Bayern Munich   \n",
       "11   1102      1103  D1    2011  2012-03-03      Leverkusen  Bayern Munich   \n",
       "12   1103      1104  D1    2011  2011-08-27  Kaiserslautern  Bayern Munich   \n",
       "13   1104      1105  D1    2011  2012-03-17          Hertha  Bayern Munich   \n",
       "14   1105      1106  D1    2011  2011-11-06        Augsburg  Bayern Munich   \n",
       "15   1106      1107  D1    2011  2012-05-05         FC Koln  Bayern Munich   \n",
       "16   1107      1108  D1    2011  2012-04-11        Dortmund  Bayern Munich   \n",
       "17   1108      1109  D1    2011  2011-08-27      Leverkusen       Dortmund   \n",
       "18   1109      1110  D1    2011  2011-12-17        Freiburg       Dortmund   \n",
       "19   1110      1111  D1    2011  2012-02-18          Hertha       Dortmund   \n",
       "20   1111      1112  D1    2011  2012-02-03        Nurnberg       Dortmund   \n",
       "\n",
       "    FTHG  FTAG FTR   Rain  \n",
       "10     0     0   D  False  \n",
       "11     2     0   H  False  \n",
       "12     0     3   A   True  \n",
       "13     0     6   A  False  \n",
       "14     1     2   A  False  \n",
       "15     1     4   A   True  \n",
       "16     1     0   H  False  \n",
       "17     0     0   D   True  \n",
       "18     1     4   A   True  \n",
       "19     0     1   A  False  \n",
       "20     0     2   A  False  "
      ]
     },
     "execution_count": 388,
     "metadata": {},
     "output_type": "execute_result"
    }
   ],
   "source": [
    "matchesdf.loc[10:20]"
   ]
  },
  {
   "cell_type": "markdown",
   "metadata": {},
   "source": [
    "[Return to contents](#Table-of-contents)"
   ]
  },
  {
   "cell_type": "markdown",
   "metadata": {},
   "source": [
    "## Stats"
   ]
  },
  {
   "cell_type": "markdown",
   "metadata": {},
   "source": [
    "### Total goals"
   ]
  },
  {
   "cell_type": "code",
   "execution_count": 271,
   "metadata": {},
   "outputs": [
    {
     "data": {
      "text/html": [
       "<div>\n",
       "<style scoped>\n",
       "    .dataframe tbody tr th:only-of-type {\n",
       "        vertical-align: middle;\n",
       "    }\n",
       "\n",
       "    .dataframe tbody tr th {\n",
       "        vertical-align: top;\n",
       "    }\n",
       "\n",
       "    .dataframe thead th {\n",
       "        text-align: right;\n",
       "    }\n",
       "</style>\n",
       "<table border=\"1\" class=\"dataframe\">\n",
       "  <thead>\n",
       "    <tr style=\"text-align: right;\">\n",
       "      <th></th>\n",
       "      <th>index</th>\n",
       "      <th>Match_ID</th>\n",
       "      <th>Div</th>\n",
       "      <th>Season</th>\n",
       "      <th>Date</th>\n",
       "      <th>HomeTeam</th>\n",
       "      <th>AwayTeam</th>\n",
       "      <th>FTHG</th>\n",
       "      <th>FTAG</th>\n",
       "      <th>FTR</th>\n",
       "    </tr>\n",
       "  </thead>\n",
       "  <tbody>\n",
       "    <tr>\n",
       "      <th>0</th>\n",
       "      <td>1091</td>\n",
       "      <td>1092</td>\n",
       "      <td>D1</td>\n",
       "      <td>2011</td>\n",
       "      <td>2012-03-31</td>\n",
       "      <td>Nurnberg</td>\n",
       "      <td>Bayern Munich</td>\n",
       "      <td>0</td>\n",
       "      <td>1</td>\n",
       "      <td>A</td>\n",
       "    </tr>\n",
       "  </tbody>\n",
       "</table>\n",
       "</div>"
      ],
      "text/plain": [
       "   index  Match_ID Div  Season        Date  HomeTeam       AwayTeam  FTHG  \\\n",
       "0   1091      1092  D1    2011  2012-03-31  Nurnberg  Bayern Munich     0   \n",
       "\n",
       "   FTAG FTR  \n",
       "0     1   A  "
      ]
     },
     "execution_count": 271,
     "metadata": {},
     "output_type": "execute_result"
    }
   ],
   "source": [
    "matchesdf.head(1)"
   ]
  },
  {
   "cell_type": "code",
   "execution_count": 280,
   "metadata": {},
   "outputs": [
    {
     "data": {
      "text/plain": [
       "array(['Nurnberg', 'Stuttgart', 'Wolfsburg', 'Mainz', 'Freiburg',\n",
       "       \"M'gladbach\", 'Hamburg', 'Werder Bremen', 'Schalke 04', 'Hannover',\n",
       "       'Hoffenheim', 'Leverkusen', 'Kaiserslautern', 'Hertha', 'Augsburg',\n",
       "       'FC Koln', 'Dortmund', 'Bayern Munich', 'Hansa Rostock', 'Bochum',\n",
       "       'Ein Frankfurt', 'Paderborn', 'Greuther Furth',\n",
       "       'Fortuna Dusseldorf', 'Ingolstadt', 'Cottbus', 'St Pauli',\n",
       "       'Frankfurt FSV', 'Union Berlin', 'Munich 1860', 'Aachen',\n",
       "       'Karlsruhe', 'Braunschweig', 'Erzgebirge Aue', 'Duisburg',\n",
       "       'Dresden', 'Blackburn', 'Fulham', 'Liverpool', 'Newcastle', 'QPR',\n",
       "       'Wigan', 'Stoke', 'West Brom', 'Man City', 'Arsenal',\n",
       "       'Aston Villa', 'Chelsea', 'Everton', 'Sunderland', 'Swansea',\n",
       "       'Bolton', 'Norwich', 'Wolves', 'Man United', 'Tottenham'],\n",
       "      dtype=object)"
      ]
     },
     "execution_count": 280,
     "metadata": {},
     "output_type": "execute_result"
    }
   ],
   "source": [
    "matchesdf.HomeTeam.unique()"
   ]
  },
  {
   "cell_type": "code",
   "execution_count": 281,
   "metadata": {},
   "outputs": [
    {
     "data": {
      "text/plain": [
       "array([False, False, False, False, False, False, False, False, False,\n",
       "       False, False, False, False, False, False, False, False, False,\n",
       "       False, False, False, False, False, False, False, False, False,\n",
       "       False, False, False, False, False, False, False, False, False,\n",
       "       False, False, False, False, False, False, False, False, False,\n",
       "       False, False, False, False, False, False, False, False, False,\n",
       "       False, False])"
      ]
     },
     "execution_count": 281,
     "metadata": {},
     "output_type": "execute_result"
    }
   ],
   "source": [
    "matchesdf.AwayTeam.unique() == matchesdf.HomeTeam.unique()"
   ]
  },
  {
   "cell_type": "code",
   "execution_count": 295,
   "metadata": {},
   "outputs": [],
   "source": [
    "q = '''select HomeTeam from matchesdf order by 1'''\n",
    "all_home = pysqldf(q)\n",
    "q2 = '''select AwayTeam from matchesdf order by 1'''\n",
    "all_away = pysqldf(q2)"
   ]
  },
  {
   "cell_type": "code",
   "execution_count": 296,
   "metadata": {},
   "outputs": [
    {
     "data": {
      "text/plain": [
       "array([ True,  True,  True,  True,  True,  True,  True,  True,  True,\n",
       "        True,  True,  True,  True,  True,  True,  True,  True,  True,\n",
       "        True,  True,  True,  True,  True,  True,  True,  True,  True,\n",
       "        True,  True,  True,  True,  True,  True,  True,  True,  True,\n",
       "        True,  True,  True,  True,  True,  True,  True,  True,  True,\n",
       "        True,  True,  True,  True,  True,  True,  True,  True,  True,\n",
       "        True,  True])"
      ]
     },
     "execution_count": 296,
     "metadata": {},
     "output_type": "execute_result"
    }
   ],
   "source": [
    "all_home.HomeTeam.unique() == all_away.AwayTeam.unique()"
   ]
  },
  {
   "cell_type": "code",
   "execution_count": 299,
   "metadata": {},
   "outputs": [],
   "source": [
    "teams = list(all_home.HomeTeam.unique())"
   ]
  },
  {
   "cell_type": "code",
   "execution_count": 534,
   "metadata": {},
   "outputs": [],
   "source": [
    "final_df = pd.DataFrame()"
   ]
  },
  {
   "cell_type": "code",
   "execution_count": 535,
   "metadata": {},
   "outputs": [],
   "source": [
    "final_df['Teams'] = teams"
   ]
  },
  {
   "cell_type": "code",
   "execution_count": 536,
   "metadata": {},
   "outputs": [
    {
     "data": {
      "text/html": [
       "<div>\n",
       "<style scoped>\n",
       "    .dataframe tbody tr th:only-of-type {\n",
       "        vertical-align: middle;\n",
       "    }\n",
       "\n",
       "    .dataframe tbody tr th {\n",
       "        vertical-align: top;\n",
       "    }\n",
       "\n",
       "    .dataframe thead th {\n",
       "        text-align: right;\n",
       "    }\n",
       "</style>\n",
       "<table border=\"1\" class=\"dataframe\">\n",
       "  <thead>\n",
       "    <tr style=\"text-align: right;\">\n",
       "      <th></th>\n",
       "      <th>Teams</th>\n",
       "    </tr>\n",
       "  </thead>\n",
       "  <tbody>\n",
       "    <tr>\n",
       "      <th>0</th>\n",
       "      <td>Aachen</td>\n",
       "    </tr>\n",
       "    <tr>\n",
       "      <th>1</th>\n",
       "      <td>Arsenal</td>\n",
       "    </tr>\n",
       "    <tr>\n",
       "      <th>2</th>\n",
       "      <td>Aston Villa</td>\n",
       "    </tr>\n",
       "    <tr>\n",
       "      <th>3</th>\n",
       "      <td>Augsburg</td>\n",
       "    </tr>\n",
       "    <tr>\n",
       "      <th>4</th>\n",
       "      <td>Bayern Munich</td>\n",
       "    </tr>\n",
       "  </tbody>\n",
       "</table>\n",
       "</div>"
      ],
      "text/plain": [
       "           Teams\n",
       "0         Aachen\n",
       "1        Arsenal\n",
       "2    Aston Villa\n",
       "3       Augsburg\n",
       "4  Bayern Munich"
      ]
     },
     "execution_count": 536,
     "metadata": {},
     "output_type": "execute_result"
    }
   ],
   "source": [
    "final_df.head()"
   ]
  },
  {
   "cell_type": "code",
   "execution_count": 537,
   "metadata": {},
   "outputs": [],
   "source": [
    "final_df['Total_home_goals'] = list(matchesdf.FTHG.groupby(matchesdf.HomeTeam).sum())"
   ]
  },
  {
   "cell_type": "code",
   "execution_count": 538,
   "metadata": {},
   "outputs": [
    {
     "data": {
      "text/html": [
       "<div>\n",
       "<style scoped>\n",
       "    .dataframe tbody tr th:only-of-type {\n",
       "        vertical-align: middle;\n",
       "    }\n",
       "\n",
       "    .dataframe tbody tr th {\n",
       "        vertical-align: top;\n",
       "    }\n",
       "\n",
       "    .dataframe thead th {\n",
       "        text-align: right;\n",
       "    }\n",
       "</style>\n",
       "<table border=\"1\" class=\"dataframe\">\n",
       "  <thead>\n",
       "    <tr style=\"text-align: right;\">\n",
       "      <th></th>\n",
       "      <th>Teams</th>\n",
       "      <th>Total_home_goals</th>\n",
       "    </tr>\n",
       "  </thead>\n",
       "  <tbody>\n",
       "    <tr>\n",
       "      <th>0</th>\n",
       "      <td>Aachen</td>\n",
       "      <td>15</td>\n",
       "    </tr>\n",
       "    <tr>\n",
       "      <th>1</th>\n",
       "      <td>Arsenal</td>\n",
       "      <td>39</td>\n",
       "    </tr>\n",
       "    <tr>\n",
       "      <th>2</th>\n",
       "      <td>Aston Villa</td>\n",
       "      <td>20</td>\n",
       "    </tr>\n",
       "    <tr>\n",
       "      <th>3</th>\n",
       "      <td>Augsburg</td>\n",
       "      <td>20</td>\n",
       "    </tr>\n",
       "    <tr>\n",
       "      <th>4</th>\n",
       "      <td>Bayern Munich</td>\n",
       "      <td>49</td>\n",
       "    </tr>\n",
       "  </tbody>\n",
       "</table>\n",
       "</div>"
      ],
      "text/plain": [
       "           Teams  Total_home_goals\n",
       "0         Aachen                15\n",
       "1        Arsenal                39\n",
       "2    Aston Villa                20\n",
       "3       Augsburg                20\n",
       "4  Bayern Munich                49"
      ]
     },
     "execution_count": 538,
     "metadata": {},
     "output_type": "execute_result"
    }
   ],
   "source": [
    "final_df.head()"
   ]
  },
  {
   "cell_type": "code",
   "execution_count": 539,
   "metadata": {},
   "outputs": [],
   "source": [
    "final_df['Total_away_goals'] = list(matchesdf.FTAG.groupby(matchesdf.AwayTeam).sum())"
   ]
  },
  {
   "cell_type": "code",
   "execution_count": 540,
   "metadata": {},
   "outputs": [
    {
     "data": {
      "text/html": [
       "<div>\n",
       "<style scoped>\n",
       "    .dataframe tbody tr th:only-of-type {\n",
       "        vertical-align: middle;\n",
       "    }\n",
       "\n",
       "    .dataframe tbody tr th {\n",
       "        vertical-align: top;\n",
       "    }\n",
       "\n",
       "    .dataframe thead th {\n",
       "        text-align: right;\n",
       "    }\n",
       "</style>\n",
       "<table border=\"1\" class=\"dataframe\">\n",
       "  <thead>\n",
       "    <tr style=\"text-align: right;\">\n",
       "      <th></th>\n",
       "      <th>Teams</th>\n",
       "      <th>Total_home_goals</th>\n",
       "      <th>Total_away_goals</th>\n",
       "    </tr>\n",
       "  </thead>\n",
       "  <tbody>\n",
       "    <tr>\n",
       "      <th>0</th>\n",
       "      <td>Aachen</td>\n",
       "      <td>15</td>\n",
       "      <td>15</td>\n",
       "    </tr>\n",
       "    <tr>\n",
       "      <th>1</th>\n",
       "      <td>Arsenal</td>\n",
       "      <td>39</td>\n",
       "      <td>35</td>\n",
       "    </tr>\n",
       "    <tr>\n",
       "      <th>2</th>\n",
       "      <td>Aston Villa</td>\n",
       "      <td>20</td>\n",
       "      <td>17</td>\n",
       "    </tr>\n",
       "    <tr>\n",
       "      <th>3</th>\n",
       "      <td>Augsburg</td>\n",
       "      <td>20</td>\n",
       "      <td>16</td>\n",
       "    </tr>\n",
       "    <tr>\n",
       "      <th>4</th>\n",
       "      <td>Bayern Munich</td>\n",
       "      <td>49</td>\n",
       "      <td>28</td>\n",
       "    </tr>\n",
       "  </tbody>\n",
       "</table>\n",
       "</div>"
      ],
      "text/plain": [
       "           Teams  Total_home_goals  Total_away_goals\n",
       "0         Aachen                15                15\n",
       "1        Arsenal                39                35\n",
       "2    Aston Villa                20                17\n",
       "3       Augsburg                20                16\n",
       "4  Bayern Munich                49                28"
      ]
     },
     "execution_count": 540,
     "metadata": {},
     "output_type": "execute_result"
    }
   ],
   "source": [
    "final_df.head()"
   ]
  },
  {
   "cell_type": "code",
   "execution_count": 541,
   "metadata": {},
   "outputs": [],
   "source": [
    "final_df['Total_goals'] = final_df['Total_home_goals'] + final_df['Total_away_goals']"
   ]
  },
  {
   "cell_type": "code",
   "execution_count": 542,
   "metadata": {},
   "outputs": [
    {
     "data": {
      "text/html": [
       "<div>\n",
       "<style scoped>\n",
       "    .dataframe tbody tr th:only-of-type {\n",
       "        vertical-align: middle;\n",
       "    }\n",
       "\n",
       "    .dataframe tbody tr th {\n",
       "        vertical-align: top;\n",
       "    }\n",
       "\n",
       "    .dataframe thead th {\n",
       "        text-align: right;\n",
       "    }\n",
       "</style>\n",
       "<table border=\"1\" class=\"dataframe\">\n",
       "  <thead>\n",
       "    <tr style=\"text-align: right;\">\n",
       "      <th></th>\n",
       "      <th>Teams</th>\n",
       "      <th>Total_home_goals</th>\n",
       "      <th>Total_away_goals</th>\n",
       "      <th>Total_goals</th>\n",
       "    </tr>\n",
       "  </thead>\n",
       "  <tbody>\n",
       "    <tr>\n",
       "      <th>0</th>\n",
       "      <td>Aachen</td>\n",
       "      <td>15</td>\n",
       "      <td>15</td>\n",
       "      <td>30</td>\n",
       "    </tr>\n",
       "    <tr>\n",
       "      <th>1</th>\n",
       "      <td>Arsenal</td>\n",
       "      <td>39</td>\n",
       "      <td>35</td>\n",
       "      <td>74</td>\n",
       "    </tr>\n",
       "    <tr>\n",
       "      <th>2</th>\n",
       "      <td>Aston Villa</td>\n",
       "      <td>20</td>\n",
       "      <td>17</td>\n",
       "      <td>37</td>\n",
       "    </tr>\n",
       "    <tr>\n",
       "      <th>3</th>\n",
       "      <td>Augsburg</td>\n",
       "      <td>20</td>\n",
       "      <td>16</td>\n",
       "      <td>36</td>\n",
       "    </tr>\n",
       "    <tr>\n",
       "      <th>4</th>\n",
       "      <td>Bayern Munich</td>\n",
       "      <td>49</td>\n",
       "      <td>28</td>\n",
       "      <td>77</td>\n",
       "    </tr>\n",
       "  </tbody>\n",
       "</table>\n",
       "</div>"
      ],
      "text/plain": [
       "           Teams  Total_home_goals  Total_away_goals  Total_goals\n",
       "0         Aachen                15                15           30\n",
       "1        Arsenal                39                35           74\n",
       "2    Aston Villa                20                17           37\n",
       "3       Augsburg                20                16           36\n",
       "4  Bayern Munich                49                28           77"
      ]
     },
     "execution_count": 542,
     "metadata": {},
     "output_type": "execute_result"
    }
   ],
   "source": [
    "final_df.head()"
   ]
  },
  {
   "cell_type": "markdown",
   "metadata": {},
   "source": [
    "[Return to contents](#Table-of-contents)"
   ]
  },
  {
   "cell_type": "markdown",
   "metadata": {},
   "source": [
    "### Wins"
   ]
  },
  {
   "cell_type": "code",
   "execution_count": 364,
   "metadata": {},
   "outputs": [
    {
     "data": {
      "text/html": [
       "<div>\n",
       "<style scoped>\n",
       "    .dataframe tbody tr th:only-of-type {\n",
       "        vertical-align: middle;\n",
       "    }\n",
       "\n",
       "    .dataframe tbody tr th {\n",
       "        vertical-align: top;\n",
       "    }\n",
       "\n",
       "    .dataframe thead th {\n",
       "        text-align: right;\n",
       "    }\n",
       "</style>\n",
       "<table border=\"1\" class=\"dataframe\">\n",
       "  <thead>\n",
       "    <tr style=\"text-align: right;\">\n",
       "      <th></th>\n",
       "      <th>index</th>\n",
       "      <th>Match_ID</th>\n",
       "      <th>Div</th>\n",
       "      <th>Season</th>\n",
       "      <th>Date</th>\n",
       "      <th>HomeTeam</th>\n",
       "      <th>AwayTeam</th>\n",
       "      <th>FTHG</th>\n",
       "      <th>FTAG</th>\n",
       "      <th>FTR</th>\n",
       "    </tr>\n",
       "  </thead>\n",
       "  <tbody>\n",
       "    <tr>\n",
       "      <th>0</th>\n",
       "      <td>1091</td>\n",
       "      <td>1092</td>\n",
       "      <td>D1</td>\n",
       "      <td>2011</td>\n",
       "      <td>2012-03-31</td>\n",
       "      <td>Nurnberg</td>\n",
       "      <td>Bayern Munich</td>\n",
       "      <td>0</td>\n",
       "      <td>1</td>\n",
       "      <td>A</td>\n",
       "    </tr>\n",
       "  </tbody>\n",
       "</table>\n",
       "</div>"
      ],
      "text/plain": [
       "   index  Match_ID Div  Season        Date  HomeTeam       AwayTeam  FTHG  \\\n",
       "0   1091      1092  D1    2011  2012-03-31  Nurnberg  Bayern Munich     0   \n",
       "\n",
       "   FTAG FTR  \n",
       "0     1   A  "
      ]
     },
     "execution_count": 364,
     "metadata": {},
     "output_type": "execute_result"
    }
   ],
   "source": [
    "matchesdf.head(1)"
   ]
  },
  {
   "cell_type": "code",
   "execution_count": 532,
   "metadata": {},
   "outputs": [
    {
     "data": {
      "text/plain": [
       "AwayTeam  FTR\n",
       "Aachen    H      8\n",
       "          D      7\n",
       "          A      2\n",
       "Arsenal   A      9\n",
       "          H      7\n",
       "Name: FTR, dtype: int64"
      ]
     },
     "execution_count": 532,
     "metadata": {},
     "output_type": "execute_result"
    }
   ],
   "source": [
    "matchesdf.FTR.groupby(matchesdf.AwayTeam).value_counts().head()"
   ]
  },
  {
   "cell_type": "code",
   "execution_count": 531,
   "metadata": {},
   "outputs": [
    {
     "data": {
      "text/plain": [
       "HomeTeam  FTR\n",
       "Aachen    A       7\n",
       "          D       6\n",
       "          H       4\n",
       "Arsenal   H      12\n",
       "          D       4\n",
       "Name: FTR, dtype: int64"
      ]
     },
     "execution_count": 531,
     "metadata": {},
     "output_type": "execute_result"
    }
   ],
   "source": [
    "matchesdf.FTR.groupby(matchesdf.HomeTeam).value_counts().head()"
   ]
  },
  {
   "cell_type": "code",
   "execution_count": 543,
   "metadata": {},
   "outputs": [
    {
     "data": {
      "text/html": [
       "<div>\n",
       "<style scoped>\n",
       "    .dataframe tbody tr th:only-of-type {\n",
       "        vertical-align: middle;\n",
       "    }\n",
       "\n",
       "    .dataframe tbody tr th {\n",
       "        vertical-align: top;\n",
       "    }\n",
       "\n",
       "    .dataframe thead th {\n",
       "        text-align: right;\n",
       "    }\n",
       "</style>\n",
       "<table border=\"1\" class=\"dataframe\">\n",
       "  <thead>\n",
       "    <tr style=\"text-align: right;\">\n",
       "      <th></th>\n",
       "      <th>Teams</th>\n",
       "      <th>Total_away_wins</th>\n",
       "    </tr>\n",
       "  </thead>\n",
       "  <tbody>\n",
       "    <tr>\n",
       "      <th>0</th>\n",
       "      <td>Aachen</td>\n",
       "      <td>2</td>\n",
       "    </tr>\n",
       "    <tr>\n",
       "      <th>1</th>\n",
       "      <td>Arsenal</td>\n",
       "      <td>9</td>\n",
       "    </tr>\n",
       "    <tr>\n",
       "      <th>2</th>\n",
       "      <td>Aston Villa</td>\n",
       "      <td>3</td>\n",
       "    </tr>\n",
       "    <tr>\n",
       "      <th>3</th>\n",
       "      <td>Augsburg</td>\n",
       "      <td>2</td>\n",
       "    </tr>\n",
       "    <tr>\n",
       "      <th>4</th>\n",
       "      <td>Bayern Munich</td>\n",
       "      <td>9</td>\n",
       "    </tr>\n",
       "  </tbody>\n",
       "</table>\n",
       "</div>"
      ],
      "text/plain": [
       "           Teams  Total_away_wins\n",
       "0         Aachen                2\n",
       "1        Arsenal                9\n",
       "2    Aston Villa                3\n",
       "3       Augsburg                2\n",
       "4  Bayern Munich                9"
      ]
     },
     "execution_count": 543,
     "metadata": {},
     "output_type": "execute_result"
    }
   ],
   "source": [
    "q3 = '''select AwayTeam as Teams, count(FTR) as Total_away_wins from matchesdf where FTR = 'A' group by AwayTeam ;'''\n",
    "all_away_wins = pysqldf(q3)\n",
    "all_away_wins.head()"
   ]
  },
  {
   "cell_type": "code",
   "execution_count": 544,
   "metadata": {},
   "outputs": [
    {
     "data": {
      "text/html": [
       "<div>\n",
       "<style scoped>\n",
       "    .dataframe tbody tr th:only-of-type {\n",
       "        vertical-align: middle;\n",
       "    }\n",
       "\n",
       "    .dataframe tbody tr th {\n",
       "        vertical-align: top;\n",
       "    }\n",
       "\n",
       "    .dataframe thead th {\n",
       "        text-align: right;\n",
       "    }\n",
       "</style>\n",
       "<table border=\"1\" class=\"dataframe\">\n",
       "  <thead>\n",
       "    <tr style=\"text-align: right;\">\n",
       "      <th></th>\n",
       "      <th>Teams</th>\n",
       "      <th>Total_home_wins</th>\n",
       "    </tr>\n",
       "  </thead>\n",
       "  <tbody>\n",
       "    <tr>\n",
       "      <th>0</th>\n",
       "      <td>Aachen</td>\n",
       "      <td>4</td>\n",
       "    </tr>\n",
       "    <tr>\n",
       "      <th>1</th>\n",
       "      <td>Arsenal</td>\n",
       "      <td>12</td>\n",
       "    </tr>\n",
       "    <tr>\n",
       "      <th>2</th>\n",
       "      <td>Aston Villa</td>\n",
       "      <td>4</td>\n",
       "    </tr>\n",
       "    <tr>\n",
       "      <th>3</th>\n",
       "      <td>Augsburg</td>\n",
       "      <td>6</td>\n",
       "    </tr>\n",
       "    <tr>\n",
       "      <th>4</th>\n",
       "      <td>Bayern Munich</td>\n",
       "      <td>14</td>\n",
       "    </tr>\n",
       "  </tbody>\n",
       "</table>\n",
       "</div>"
      ],
      "text/plain": [
       "           Teams  Total_home_wins\n",
       "0         Aachen                4\n",
       "1        Arsenal               12\n",
       "2    Aston Villa                4\n",
       "3       Augsburg                6\n",
       "4  Bayern Munich               14"
      ]
     },
     "execution_count": 544,
     "metadata": {},
     "output_type": "execute_result"
    }
   ],
   "source": [
    "q4 = '''select HomeTeam as Teams, count(FTR) as Total_home_wins from matchesdf where FTR = 'H' group by HomeTeam ;'''\n",
    "all_home_wins = pysqldf(q4)\n",
    "all_home_wins.head()"
   ]
  },
  {
   "cell_type": "code",
   "execution_count": 546,
   "metadata": {},
   "outputs": [],
   "source": [
    "final_df = pd.merge(final_df, all_home_wins, on='Teams', how='left')\n",
    "final_df = pd.merge(final_df, all_away_wins, on='Teams', how='left')"
   ]
  },
  {
   "cell_type": "code",
   "execution_count": 547,
   "metadata": {},
   "outputs": [
    {
     "data": {
      "text/html": [
       "<div>\n",
       "<style scoped>\n",
       "    .dataframe tbody tr th:only-of-type {\n",
       "        vertical-align: middle;\n",
       "    }\n",
       "\n",
       "    .dataframe tbody tr th {\n",
       "        vertical-align: top;\n",
       "    }\n",
       "\n",
       "    .dataframe thead th {\n",
       "        text-align: right;\n",
       "    }\n",
       "</style>\n",
       "<table border=\"1\" class=\"dataframe\">\n",
       "  <thead>\n",
       "    <tr style=\"text-align: right;\">\n",
       "      <th></th>\n",
       "      <th>Teams</th>\n",
       "      <th>Total_home_goals</th>\n",
       "      <th>Total_away_goals</th>\n",
       "      <th>Total_goals</th>\n",
       "      <th>Total_home_wins</th>\n",
       "      <th>Total_away_wins</th>\n",
       "    </tr>\n",
       "  </thead>\n",
       "  <tbody>\n",
       "    <tr>\n",
       "      <th>0</th>\n",
       "      <td>Aachen</td>\n",
       "      <td>15</td>\n",
       "      <td>15</td>\n",
       "      <td>30</td>\n",
       "      <td>4</td>\n",
       "      <td>2</td>\n",
       "    </tr>\n",
       "    <tr>\n",
       "      <th>1</th>\n",
       "      <td>Arsenal</td>\n",
       "      <td>39</td>\n",
       "      <td>35</td>\n",
       "      <td>74</td>\n",
       "      <td>12</td>\n",
       "      <td>9</td>\n",
       "    </tr>\n",
       "    <tr>\n",
       "      <th>2</th>\n",
       "      <td>Aston Villa</td>\n",
       "      <td>20</td>\n",
       "      <td>17</td>\n",
       "      <td>37</td>\n",
       "      <td>4</td>\n",
       "      <td>3</td>\n",
       "    </tr>\n",
       "    <tr>\n",
       "      <th>3</th>\n",
       "      <td>Augsburg</td>\n",
       "      <td>20</td>\n",
       "      <td>16</td>\n",
       "      <td>36</td>\n",
       "      <td>6</td>\n",
       "      <td>2</td>\n",
       "    </tr>\n",
       "    <tr>\n",
       "      <th>4</th>\n",
       "      <td>Bayern Munich</td>\n",
       "      <td>49</td>\n",
       "      <td>28</td>\n",
       "      <td>77</td>\n",
       "      <td>14</td>\n",
       "      <td>9</td>\n",
       "    </tr>\n",
       "  </tbody>\n",
       "</table>\n",
       "</div>"
      ],
      "text/plain": [
       "           Teams  Total_home_goals  Total_away_goals  Total_goals  \\\n",
       "0         Aachen                15                15           30   \n",
       "1        Arsenal                39                35           74   \n",
       "2    Aston Villa                20                17           37   \n",
       "3       Augsburg                20                16           36   \n",
       "4  Bayern Munich                49                28           77   \n",
       "\n",
       "   Total_home_wins  Total_away_wins  \n",
       "0                4                2  \n",
       "1               12                9  \n",
       "2                4                3  \n",
       "3                6                2  \n",
       "4               14                9  "
      ]
     },
     "execution_count": 547,
     "metadata": {},
     "output_type": "execute_result"
    }
   ],
   "source": [
    "final_df.head()"
   ]
  },
  {
   "cell_type": "code",
   "execution_count": 549,
   "metadata": {},
   "outputs": [
    {
     "data": {
      "text/plain": [
       "Teams               0\n",
       "Total_home_goals    0\n",
       "Total_away_goals    0\n",
       "Total_goals         0\n",
       "Total_home_wins     0\n",
       "Total_away_wins     0\n",
       "dtype: int64"
      ]
     },
     "execution_count": 549,
     "metadata": {},
     "output_type": "execute_result"
    }
   ],
   "source": [
    "final_df.isna().sum()"
   ]
  },
  {
   "cell_type": "code",
   "execution_count": 550,
   "metadata": {},
   "outputs": [
    {
     "data": {
      "text/html": [
       "<div>\n",
       "<style scoped>\n",
       "    .dataframe tbody tr th:only-of-type {\n",
       "        vertical-align: middle;\n",
       "    }\n",
       "\n",
       "    .dataframe tbody tr th {\n",
       "        vertical-align: top;\n",
       "    }\n",
       "\n",
       "    .dataframe thead th {\n",
       "        text-align: right;\n",
       "    }\n",
       "</style>\n",
       "<table border=\"1\" class=\"dataframe\">\n",
       "  <thead>\n",
       "    <tr style=\"text-align: right;\">\n",
       "      <th></th>\n",
       "      <th>Teams</th>\n",
       "      <th>Total_home_goals</th>\n",
       "      <th>Total_away_goals</th>\n",
       "      <th>Total_goals</th>\n",
       "      <th>Total_home_wins</th>\n",
       "      <th>Total_away_wins</th>\n",
       "      <th>Total_wins</th>\n",
       "    </tr>\n",
       "  </thead>\n",
       "  <tbody>\n",
       "    <tr>\n",
       "      <th>0</th>\n",
       "      <td>Aachen</td>\n",
       "      <td>15</td>\n",
       "      <td>15</td>\n",
       "      <td>30</td>\n",
       "      <td>4</td>\n",
       "      <td>2</td>\n",
       "      <td>6</td>\n",
       "    </tr>\n",
       "    <tr>\n",
       "      <th>1</th>\n",
       "      <td>Arsenal</td>\n",
       "      <td>39</td>\n",
       "      <td>35</td>\n",
       "      <td>74</td>\n",
       "      <td>12</td>\n",
       "      <td>9</td>\n",
       "      <td>21</td>\n",
       "    </tr>\n",
       "    <tr>\n",
       "      <th>2</th>\n",
       "      <td>Aston Villa</td>\n",
       "      <td>20</td>\n",
       "      <td>17</td>\n",
       "      <td>37</td>\n",
       "      <td>4</td>\n",
       "      <td>3</td>\n",
       "      <td>7</td>\n",
       "    </tr>\n",
       "    <tr>\n",
       "      <th>3</th>\n",
       "      <td>Augsburg</td>\n",
       "      <td>20</td>\n",
       "      <td>16</td>\n",
       "      <td>36</td>\n",
       "      <td>6</td>\n",
       "      <td>2</td>\n",
       "      <td>8</td>\n",
       "    </tr>\n",
       "    <tr>\n",
       "      <th>4</th>\n",
       "      <td>Bayern Munich</td>\n",
       "      <td>49</td>\n",
       "      <td>28</td>\n",
       "      <td>77</td>\n",
       "      <td>14</td>\n",
       "      <td>9</td>\n",
       "      <td>23</td>\n",
       "    </tr>\n",
       "  </tbody>\n",
       "</table>\n",
       "</div>"
      ],
      "text/plain": [
       "           Teams  Total_home_goals  Total_away_goals  Total_goals  \\\n",
       "0         Aachen                15                15           30   \n",
       "1        Arsenal                39                35           74   \n",
       "2    Aston Villa                20                17           37   \n",
       "3       Augsburg                20                16           36   \n",
       "4  Bayern Munich                49                28           77   \n",
       "\n",
       "   Total_home_wins  Total_away_wins  Total_wins  \n",
       "0                4                2           6  \n",
       "1               12                9          21  \n",
       "2                4                3           7  \n",
       "3                6                2           8  \n",
       "4               14                9          23  "
      ]
     },
     "execution_count": 550,
     "metadata": {},
     "output_type": "execute_result"
    }
   ],
   "source": [
    "final_df['Total_wins'] = final_df['Total_home_wins'] + final_df['Total_away_wins']\n",
    "final_df.head()"
   ]
  },
  {
   "cell_type": "markdown",
   "metadata": {},
   "source": [
    "[Return to contents](#Table-of-contents)"
   ]
  },
  {
   "cell_type": "markdown",
   "metadata": {},
   "source": [
    "### Rain win pct"
   ]
  },
  {
   "cell_type": "code",
   "execution_count": 404,
   "metadata": {},
   "outputs": [
    {
     "name": "stderr",
     "output_type": "stream",
     "text": [
      "C:\\Users\\lraic\\Anaconda3\\envs\\learn-env\\lib\\site-packages\\pandas\\core\\generic.py:4405: SettingWithCopyWarning: \n",
      "A value is trying to be set on a copy of a slice from a DataFrame.\n",
      "Try using .loc[row_indexer,col_indexer] = value instead\n",
      "\n",
      "See the caveats in the documentation: http://pandas.pydata.org/pandas-docs/stable/indexing.html#indexing-view-versus-copy\n",
      "  self[name] = value\n"
     ]
    }
   ],
   "source": [
    "matchesdf.Rain = matchesdf.Rain.astype(str)"
   ]
  },
  {
   "cell_type": "code",
   "execution_count": 500,
   "metadata": {},
   "outputs": [],
   "source": [
    "all_away_rain_wins = pd.DataFrame()"
   ]
  },
  {
   "cell_type": "code",
   "execution_count": 501,
   "metadata": {},
   "outputs": [],
   "source": [
    "all_away_rain_wins['teams'] = teams"
   ]
  },
  {
   "cell_type": "code",
   "execution_count": 502,
   "metadata": {},
   "outputs": [
    {
     "data": {
      "text/html": [
       "<div>\n",
       "<style scoped>\n",
       "    .dataframe tbody tr th:only-of-type {\n",
       "        vertical-align: middle;\n",
       "    }\n",
       "\n",
       "    .dataframe tbody tr th {\n",
       "        vertical-align: top;\n",
       "    }\n",
       "\n",
       "    .dataframe thead th {\n",
       "        text-align: right;\n",
       "    }\n",
       "</style>\n",
       "<table border=\"1\" class=\"dataframe\">\n",
       "  <thead>\n",
       "    <tr style=\"text-align: right;\">\n",
       "      <th></th>\n",
       "      <th>teams</th>\n",
       "    </tr>\n",
       "  </thead>\n",
       "  <tbody>\n",
       "    <tr>\n",
       "      <th>0</th>\n",
       "      <td>Aachen</td>\n",
       "    </tr>\n",
       "    <tr>\n",
       "      <th>1</th>\n",
       "      <td>Arsenal</td>\n",
       "    </tr>\n",
       "    <tr>\n",
       "      <th>2</th>\n",
       "      <td>Aston Villa</td>\n",
       "    </tr>\n",
       "    <tr>\n",
       "      <th>3</th>\n",
       "      <td>Augsburg</td>\n",
       "    </tr>\n",
       "    <tr>\n",
       "      <th>4</th>\n",
       "      <td>Bayern Munich</td>\n",
       "    </tr>\n",
       "  </tbody>\n",
       "</table>\n",
       "</div>"
      ],
      "text/plain": [
       "           teams\n",
       "0         Aachen\n",
       "1        Arsenal\n",
       "2    Aston Villa\n",
       "3       Augsburg\n",
       "4  Bayern Munich"
      ]
     },
     "execution_count": 502,
     "metadata": {},
     "output_type": "execute_result"
    }
   ],
   "source": [
    "all_away_rain_wins.head()"
   ]
  },
  {
   "cell_type": "code",
   "execution_count": 503,
   "metadata": {},
   "outputs": [
    {
     "data": {
      "text/html": [
       "<div>\n",
       "<style scoped>\n",
       "    .dataframe tbody tr th:only-of-type {\n",
       "        vertical-align: middle;\n",
       "    }\n",
       "\n",
       "    .dataframe tbody tr th {\n",
       "        vertical-align: top;\n",
       "    }\n",
       "\n",
       "    .dataframe thead th {\n",
       "        text-align: right;\n",
       "    }\n",
       "</style>\n",
       "<table border=\"1\" class=\"dataframe\">\n",
       "  <thead>\n",
       "    <tr style=\"text-align: right;\">\n",
       "      <th></th>\n",
       "      <th>teams</th>\n",
       "      <th>Total_away_rain_wins</th>\n",
       "    </tr>\n",
       "  </thead>\n",
       "  <tbody>\n",
       "    <tr>\n",
       "      <th>0</th>\n",
       "      <td>Arsenal</td>\n",
       "      <td>2</td>\n",
       "    </tr>\n",
       "    <tr>\n",
       "      <th>1</th>\n",
       "      <td>Bayern Munich</td>\n",
       "      <td>3</td>\n",
       "    </tr>\n",
       "    <tr>\n",
       "      <th>2</th>\n",
       "      <td>Bochum</td>\n",
       "      <td>1</td>\n",
       "    </tr>\n",
       "    <tr>\n",
       "      <th>3</th>\n",
       "      <td>Bolton</td>\n",
       "      <td>2</td>\n",
       "    </tr>\n",
       "    <tr>\n",
       "      <th>4</th>\n",
       "      <td>Braunschweig</td>\n",
       "      <td>1</td>\n",
       "    </tr>\n",
       "  </tbody>\n",
       "</table>\n",
       "</div>"
      ],
      "text/plain": [
       "           teams  Total_away_rain_wins\n",
       "0        Arsenal                     2\n",
       "1  Bayern Munich                     3\n",
       "2         Bochum                     1\n",
       "3         Bolton                     2\n",
       "4   Braunschweig                     1"
      ]
     },
     "execution_count": 503,
     "metadata": {},
     "output_type": "execute_result"
    }
   ],
   "source": [
    "q5 = '''select AwayTeam as teams, count(FTR) as Total_away_rain_wins \n",
    "from matchesdf where FTR = 'A' and Rain = 'True' group by AwayTeam;'''\n",
    "all_away_rain_wins2 = pysqldf(q5)\n",
    "all_away_rain_wins2.head()"
   ]
  },
  {
   "cell_type": "code",
   "execution_count": 504,
   "metadata": {
    "scrolled": true
   },
   "outputs": [],
   "source": [
    "all_away_rain_wins = pd.merge(all_away_rain_wins, all_away_rain_wins2, on='teams', how='left')"
   ]
  },
  {
   "cell_type": "code",
   "execution_count": 505,
   "metadata": {},
   "outputs": [
    {
     "data": {
      "text/html": [
       "<div>\n",
       "<style scoped>\n",
       "    .dataframe tbody tr th:only-of-type {\n",
       "        vertical-align: middle;\n",
       "    }\n",
       "\n",
       "    .dataframe tbody tr th {\n",
       "        vertical-align: top;\n",
       "    }\n",
       "\n",
       "    .dataframe thead th {\n",
       "        text-align: right;\n",
       "    }\n",
       "</style>\n",
       "<table border=\"1\" class=\"dataframe\">\n",
       "  <thead>\n",
       "    <tr style=\"text-align: right;\">\n",
       "      <th></th>\n",
       "      <th>teams</th>\n",
       "      <th>Total_away_rain_wins</th>\n",
       "    </tr>\n",
       "  </thead>\n",
       "  <tbody>\n",
       "    <tr>\n",
       "      <th>0</th>\n",
       "      <td>Aachen</td>\n",
       "      <td>NaN</td>\n",
       "    </tr>\n",
       "    <tr>\n",
       "      <th>1</th>\n",
       "      <td>Arsenal</td>\n",
       "      <td>2.0</td>\n",
       "    </tr>\n",
       "    <tr>\n",
       "      <th>2</th>\n",
       "      <td>Aston Villa</td>\n",
       "      <td>NaN</td>\n",
       "    </tr>\n",
       "    <tr>\n",
       "      <th>3</th>\n",
       "      <td>Augsburg</td>\n",
       "      <td>NaN</td>\n",
       "    </tr>\n",
       "    <tr>\n",
       "      <th>4</th>\n",
       "      <td>Bayern Munich</td>\n",
       "      <td>3.0</td>\n",
       "    </tr>\n",
       "  </tbody>\n",
       "</table>\n",
       "</div>"
      ],
      "text/plain": [
       "           teams  Total_away_rain_wins\n",
       "0         Aachen                   NaN\n",
       "1        Arsenal                   2.0\n",
       "2    Aston Villa                   NaN\n",
       "3       Augsburg                   NaN\n",
       "4  Bayern Munich                   3.0"
      ]
     },
     "execution_count": 505,
     "metadata": {},
     "output_type": "execute_result"
    }
   ],
   "source": [
    "all_away_rain_wins.head()"
   ]
  },
  {
   "cell_type": "code",
   "execution_count": 506,
   "metadata": {},
   "outputs": [
    {
     "data": {
      "text/html": [
       "<div>\n",
       "<style scoped>\n",
       "    .dataframe tbody tr th:only-of-type {\n",
       "        vertical-align: middle;\n",
       "    }\n",
       "\n",
       "    .dataframe tbody tr th {\n",
       "        vertical-align: top;\n",
       "    }\n",
       "\n",
       "    .dataframe thead th {\n",
       "        text-align: right;\n",
       "    }\n",
       "</style>\n",
       "<table border=\"1\" class=\"dataframe\">\n",
       "  <thead>\n",
       "    <tr style=\"text-align: right;\">\n",
       "      <th></th>\n",
       "      <th>teams</th>\n",
       "      <th>Total_away_rain_games</th>\n",
       "    </tr>\n",
       "  </thead>\n",
       "  <tbody>\n",
       "    <tr>\n",
       "      <th>0</th>\n",
       "      <td>Aachen</td>\n",
       "      <td>1</td>\n",
       "    </tr>\n",
       "    <tr>\n",
       "      <th>1</th>\n",
       "      <td>Arsenal</td>\n",
       "      <td>4</td>\n",
       "    </tr>\n",
       "    <tr>\n",
       "      <th>2</th>\n",
       "      <td>Augsburg</td>\n",
       "      <td>3</td>\n",
       "    </tr>\n",
       "    <tr>\n",
       "      <th>3</th>\n",
       "      <td>Bayern Munich</td>\n",
       "      <td>3</td>\n",
       "    </tr>\n",
       "    <tr>\n",
       "      <th>4</th>\n",
       "      <td>Bochum</td>\n",
       "      <td>2</td>\n",
       "    </tr>\n",
       "  </tbody>\n",
       "</table>\n",
       "</div>"
      ],
      "text/plain": [
       "           teams  Total_away_rain_games\n",
       "0         Aachen                      1\n",
       "1        Arsenal                      4\n",
       "2       Augsburg                      3\n",
       "3  Bayern Munich                      3\n",
       "4         Bochum                      2"
      ]
     },
     "execution_count": 506,
     "metadata": {},
     "output_type": "execute_result"
    }
   ],
   "source": [
    "q6 = '''select AwayTeam as teams, count(AwayTeam) as Total_away_rain_games \n",
    "from matchesdf where Rain = 'True' group by AwayTeam;'''\n",
    "all_away_rain_games = pysqldf(q6)\n",
    "all_away_rain_games.head()"
   ]
  },
  {
   "cell_type": "code",
   "execution_count": 507,
   "metadata": {},
   "outputs": [],
   "source": [
    "all_away_rain_wins = pd.merge(all_away_rain_wins, all_away_rain_games, on='teams', how='left')"
   ]
  },
  {
   "cell_type": "code",
   "execution_count": 508,
   "metadata": {},
   "outputs": [],
   "source": [
    "all_away_rain_wins.fillna(0, inplace=True)"
   ]
  },
  {
   "cell_type": "code",
   "execution_count": 509,
   "metadata": {},
   "outputs": [
    {
     "data": {
      "text/html": [
       "<div>\n",
       "<style scoped>\n",
       "    .dataframe tbody tr th:only-of-type {\n",
       "        vertical-align: middle;\n",
       "    }\n",
       "\n",
       "    .dataframe tbody tr th {\n",
       "        vertical-align: top;\n",
       "    }\n",
       "\n",
       "    .dataframe thead th {\n",
       "        text-align: right;\n",
       "    }\n",
       "</style>\n",
       "<table border=\"1\" class=\"dataframe\">\n",
       "  <thead>\n",
       "    <tr style=\"text-align: right;\">\n",
       "      <th></th>\n",
       "      <th>teams</th>\n",
       "      <th>Total_away_rain_wins</th>\n",
       "      <th>Total_away_rain_games</th>\n",
       "    </tr>\n",
       "  </thead>\n",
       "  <tbody>\n",
       "    <tr>\n",
       "      <th>0</th>\n",
       "      <td>Aachen</td>\n",
       "      <td>0.0</td>\n",
       "      <td>1.0</td>\n",
       "    </tr>\n",
       "    <tr>\n",
       "      <th>1</th>\n",
       "      <td>Arsenal</td>\n",
       "      <td>2.0</td>\n",
       "      <td>4.0</td>\n",
       "    </tr>\n",
       "    <tr>\n",
       "      <th>2</th>\n",
       "      <td>Aston Villa</td>\n",
       "      <td>0.0</td>\n",
       "      <td>0.0</td>\n",
       "    </tr>\n",
       "    <tr>\n",
       "      <th>3</th>\n",
       "      <td>Augsburg</td>\n",
       "      <td>0.0</td>\n",
       "      <td>3.0</td>\n",
       "    </tr>\n",
       "    <tr>\n",
       "      <th>4</th>\n",
       "      <td>Bayern Munich</td>\n",
       "      <td>3.0</td>\n",
       "      <td>3.0</td>\n",
       "    </tr>\n",
       "  </tbody>\n",
       "</table>\n",
       "</div>"
      ],
      "text/plain": [
       "           teams  Total_away_rain_wins  Total_away_rain_games\n",
       "0         Aachen                   0.0                    1.0\n",
       "1        Arsenal                   2.0                    4.0\n",
       "2    Aston Villa                   0.0                    0.0\n",
       "3       Augsburg                   0.0                    3.0\n",
       "4  Bayern Munich                   3.0                    3.0"
      ]
     },
     "execution_count": 509,
     "metadata": {},
     "output_type": "execute_result"
    }
   ],
   "source": [
    "all_away_rain_wins.head()"
   ]
  },
  {
   "cell_type": "code",
   "execution_count": 510,
   "metadata": {},
   "outputs": [],
   "source": [
    "all_home_rain = pd.DataFrame()"
   ]
  },
  {
   "cell_type": "code",
   "execution_count": 511,
   "metadata": {},
   "outputs": [],
   "source": [
    "all_home_rain['teams'] = teams"
   ]
  },
  {
   "cell_type": "code",
   "execution_count": 512,
   "metadata": {},
   "outputs": [
    {
     "data": {
      "text/html": [
       "<div>\n",
       "<style scoped>\n",
       "    .dataframe tbody tr th:only-of-type {\n",
       "        vertical-align: middle;\n",
       "    }\n",
       "\n",
       "    .dataframe tbody tr th {\n",
       "        vertical-align: top;\n",
       "    }\n",
       "\n",
       "    .dataframe thead th {\n",
       "        text-align: right;\n",
       "    }\n",
       "</style>\n",
       "<table border=\"1\" class=\"dataframe\">\n",
       "  <thead>\n",
       "    <tr style=\"text-align: right;\">\n",
       "      <th></th>\n",
       "      <th>teams</th>\n",
       "    </tr>\n",
       "  </thead>\n",
       "  <tbody>\n",
       "    <tr>\n",
       "      <th>0</th>\n",
       "      <td>Aachen</td>\n",
       "    </tr>\n",
       "    <tr>\n",
       "      <th>1</th>\n",
       "      <td>Arsenal</td>\n",
       "    </tr>\n",
       "    <tr>\n",
       "      <th>2</th>\n",
       "      <td>Aston Villa</td>\n",
       "    </tr>\n",
       "    <tr>\n",
       "      <th>3</th>\n",
       "      <td>Augsburg</td>\n",
       "    </tr>\n",
       "    <tr>\n",
       "      <th>4</th>\n",
       "      <td>Bayern Munich</td>\n",
       "    </tr>\n",
       "  </tbody>\n",
       "</table>\n",
       "</div>"
      ],
      "text/plain": [
       "           teams\n",
       "0         Aachen\n",
       "1        Arsenal\n",
       "2    Aston Villa\n",
       "3       Augsburg\n",
       "4  Bayern Munich"
      ]
     },
     "execution_count": 512,
     "metadata": {},
     "output_type": "execute_result"
    }
   ],
   "source": [
    "all_home_rain.head()"
   ]
  },
  {
   "cell_type": "code",
   "execution_count": 513,
   "metadata": {},
   "outputs": [
    {
     "data": {
      "text/html": [
       "<div>\n",
       "<style scoped>\n",
       "    .dataframe tbody tr th:only-of-type {\n",
       "        vertical-align: middle;\n",
       "    }\n",
       "\n",
       "    .dataframe tbody tr th {\n",
       "        vertical-align: top;\n",
       "    }\n",
       "\n",
       "    .dataframe thead th {\n",
       "        text-align: right;\n",
       "    }\n",
       "</style>\n",
       "<table border=\"1\" class=\"dataframe\">\n",
       "  <thead>\n",
       "    <tr style=\"text-align: right;\">\n",
       "      <th></th>\n",
       "      <th>teams</th>\n",
       "      <th>Total_home_rain_wins</th>\n",
       "    </tr>\n",
       "  </thead>\n",
       "  <tbody>\n",
       "    <tr>\n",
       "      <th>0</th>\n",
       "      <td>Augsburg</td>\n",
       "      <td>1</td>\n",
       "    </tr>\n",
       "    <tr>\n",
       "      <th>1</th>\n",
       "      <td>Bayern Munich</td>\n",
       "      <td>2</td>\n",
       "    </tr>\n",
       "    <tr>\n",
       "      <th>2</th>\n",
       "      <td>Blackburn</td>\n",
       "      <td>2</td>\n",
       "    </tr>\n",
       "    <tr>\n",
       "      <th>3</th>\n",
       "      <td>Braunschweig</td>\n",
       "      <td>1</td>\n",
       "    </tr>\n",
       "    <tr>\n",
       "      <th>4</th>\n",
       "      <td>Chelsea</td>\n",
       "      <td>1</td>\n",
       "    </tr>\n",
       "  </tbody>\n",
       "</table>\n",
       "</div>"
      ],
      "text/plain": [
       "           teams  Total_home_rain_wins\n",
       "0       Augsburg                     1\n",
       "1  Bayern Munich                     2\n",
       "2      Blackburn                     2\n",
       "3   Braunschweig                     1\n",
       "4        Chelsea                     1"
      ]
     },
     "execution_count": 513,
     "metadata": {},
     "output_type": "execute_result"
    }
   ],
   "source": [
    "q7 = '''select HomeTeam as teams, count(FTR) as Total_home_rain_wins \n",
    "from matchesdf where FTR = 'H' and Rain = 'True' group by HomeTeam;'''\n",
    "all_home_rain_wins = pysqldf(q7)\n",
    "all_home_rain_wins.head()"
   ]
  },
  {
   "cell_type": "code",
   "execution_count": 514,
   "metadata": {
    "scrolled": true
   },
   "outputs": [],
   "source": [
    "all_home_rain = pd.merge(all_home_rain, all_home_rain_wins, on='teams', how='left')"
   ]
  },
  {
   "cell_type": "code",
   "execution_count": 516,
   "metadata": {},
   "outputs": [
    {
     "data": {
      "text/html": [
       "<div>\n",
       "<style scoped>\n",
       "    .dataframe tbody tr th:only-of-type {\n",
       "        vertical-align: middle;\n",
       "    }\n",
       "\n",
       "    .dataframe tbody tr th {\n",
       "        vertical-align: top;\n",
       "    }\n",
       "\n",
       "    .dataframe thead th {\n",
       "        text-align: right;\n",
       "    }\n",
       "</style>\n",
       "<table border=\"1\" class=\"dataframe\">\n",
       "  <thead>\n",
       "    <tr style=\"text-align: right;\">\n",
       "      <th></th>\n",
       "      <th>teams</th>\n",
       "      <th>Total_home_rain_wins</th>\n",
       "    </tr>\n",
       "  </thead>\n",
       "  <tbody>\n",
       "    <tr>\n",
       "      <th>0</th>\n",
       "      <td>Aachen</td>\n",
       "      <td>NaN</td>\n",
       "    </tr>\n",
       "    <tr>\n",
       "      <th>1</th>\n",
       "      <td>Arsenal</td>\n",
       "      <td>NaN</td>\n",
       "    </tr>\n",
       "    <tr>\n",
       "      <th>2</th>\n",
       "      <td>Aston Villa</td>\n",
       "      <td>NaN</td>\n",
       "    </tr>\n",
       "    <tr>\n",
       "      <th>3</th>\n",
       "      <td>Augsburg</td>\n",
       "      <td>1.0</td>\n",
       "    </tr>\n",
       "    <tr>\n",
       "      <th>4</th>\n",
       "      <td>Bayern Munich</td>\n",
       "      <td>2.0</td>\n",
       "    </tr>\n",
       "  </tbody>\n",
       "</table>\n",
       "</div>"
      ],
      "text/plain": [
       "           teams  Total_home_rain_wins\n",
       "0         Aachen                   NaN\n",
       "1        Arsenal                   NaN\n",
       "2    Aston Villa                   NaN\n",
       "3       Augsburg                   1.0\n",
       "4  Bayern Munich                   2.0"
      ]
     },
     "execution_count": 516,
     "metadata": {},
     "output_type": "execute_result"
    }
   ],
   "source": [
    "all_home_rain.head()"
   ]
  },
  {
   "cell_type": "code",
   "execution_count": 517,
   "metadata": {},
   "outputs": [
    {
     "data": {
      "text/html": [
       "<div>\n",
       "<style scoped>\n",
       "    .dataframe tbody tr th:only-of-type {\n",
       "        vertical-align: middle;\n",
       "    }\n",
       "\n",
       "    .dataframe tbody tr th {\n",
       "        vertical-align: top;\n",
       "    }\n",
       "\n",
       "    .dataframe thead th {\n",
       "        text-align: right;\n",
       "    }\n",
       "</style>\n",
       "<table border=\"1\" class=\"dataframe\">\n",
       "  <thead>\n",
       "    <tr style=\"text-align: right;\">\n",
       "      <th></th>\n",
       "      <th>teams</th>\n",
       "      <th>Total_home_rain_games</th>\n",
       "    </tr>\n",
       "  </thead>\n",
       "  <tbody>\n",
       "    <tr>\n",
       "      <th>0</th>\n",
       "      <td>Aachen</td>\n",
       "      <td>2</td>\n",
       "    </tr>\n",
       "    <tr>\n",
       "      <th>1</th>\n",
       "      <td>Arsenal</td>\n",
       "      <td>1</td>\n",
       "    </tr>\n",
       "    <tr>\n",
       "      <th>2</th>\n",
       "      <td>Aston Villa</td>\n",
       "      <td>6</td>\n",
       "    </tr>\n",
       "    <tr>\n",
       "      <th>3</th>\n",
       "      <td>Augsburg</td>\n",
       "      <td>1</td>\n",
       "    </tr>\n",
       "    <tr>\n",
       "      <th>4</th>\n",
       "      <td>Bayern Munich</td>\n",
       "      <td>2</td>\n",
       "    </tr>\n",
       "  </tbody>\n",
       "</table>\n",
       "</div>"
      ],
      "text/plain": [
       "           teams  Total_home_rain_games\n",
       "0         Aachen                      2\n",
       "1        Arsenal                      1\n",
       "2    Aston Villa                      6\n",
       "3       Augsburg                      1\n",
       "4  Bayern Munich                      2"
      ]
     },
     "execution_count": 517,
     "metadata": {},
     "output_type": "execute_result"
    }
   ],
   "source": [
    "q8 = '''select HomeTeam as teams, count(HomeTeam) as Total_home_rain_games \n",
    "from matchesdf where Rain = 'True' group by HomeTeam;'''\n",
    "all_home_rain_games = pysqldf(q8)\n",
    "all_home_rain_games.head()"
   ]
  },
  {
   "cell_type": "code",
   "execution_count": 518,
   "metadata": {},
   "outputs": [],
   "source": [
    "all_home_rain = pd.merge(all_home_rain, all_home_rain_games, on='teams', how='left')"
   ]
  },
  {
   "cell_type": "code",
   "execution_count": 519,
   "metadata": {},
   "outputs": [],
   "source": [
    "all_home_rain.fillna(0, inplace=True)"
   ]
  },
  {
   "cell_type": "code",
   "execution_count": 520,
   "metadata": {},
   "outputs": [
    {
     "data": {
      "text/html": [
       "<div>\n",
       "<style scoped>\n",
       "    .dataframe tbody tr th:only-of-type {\n",
       "        vertical-align: middle;\n",
       "    }\n",
       "\n",
       "    .dataframe tbody tr th {\n",
       "        vertical-align: top;\n",
       "    }\n",
       "\n",
       "    .dataframe thead th {\n",
       "        text-align: right;\n",
       "    }\n",
       "</style>\n",
       "<table border=\"1\" class=\"dataframe\">\n",
       "  <thead>\n",
       "    <tr style=\"text-align: right;\">\n",
       "      <th></th>\n",
       "      <th>teams</th>\n",
       "      <th>Total_home_rain_wins</th>\n",
       "      <th>Total_home_rain_games</th>\n",
       "    </tr>\n",
       "  </thead>\n",
       "  <tbody>\n",
       "    <tr>\n",
       "      <th>0</th>\n",
       "      <td>Aachen</td>\n",
       "      <td>0.0</td>\n",
       "      <td>2.0</td>\n",
       "    </tr>\n",
       "    <tr>\n",
       "      <th>1</th>\n",
       "      <td>Arsenal</td>\n",
       "      <td>0.0</td>\n",
       "      <td>1.0</td>\n",
       "    </tr>\n",
       "    <tr>\n",
       "      <th>2</th>\n",
       "      <td>Aston Villa</td>\n",
       "      <td>0.0</td>\n",
       "      <td>6.0</td>\n",
       "    </tr>\n",
       "    <tr>\n",
       "      <th>3</th>\n",
       "      <td>Augsburg</td>\n",
       "      <td>1.0</td>\n",
       "      <td>1.0</td>\n",
       "    </tr>\n",
       "    <tr>\n",
       "      <th>4</th>\n",
       "      <td>Bayern Munich</td>\n",
       "      <td>2.0</td>\n",
       "      <td>2.0</td>\n",
       "    </tr>\n",
       "  </tbody>\n",
       "</table>\n",
       "</div>"
      ],
      "text/plain": [
       "           teams  Total_home_rain_wins  Total_home_rain_games\n",
       "0         Aachen                   0.0                    2.0\n",
       "1        Arsenal                   0.0                    1.0\n",
       "2    Aston Villa                   0.0                    6.0\n",
       "3       Augsburg                   1.0                    1.0\n",
       "4  Bayern Munich                   2.0                    2.0"
      ]
     },
     "execution_count": 520,
     "metadata": {},
     "output_type": "execute_result"
    }
   ],
   "source": [
    "all_home_rain.head()"
   ]
  },
  {
   "cell_type": "code",
   "execution_count": 521,
   "metadata": {},
   "outputs": [],
   "source": [
    "all_rain_games = pd.merge(all_away_rain_wins, all_home_rain)"
   ]
  },
  {
   "cell_type": "code",
   "execution_count": 522,
   "metadata": {},
   "outputs": [
    {
     "data": {
      "text/html": [
       "<div>\n",
       "<style scoped>\n",
       "    .dataframe tbody tr th:only-of-type {\n",
       "        vertical-align: middle;\n",
       "    }\n",
       "\n",
       "    .dataframe tbody tr th {\n",
       "        vertical-align: top;\n",
       "    }\n",
       "\n",
       "    .dataframe thead th {\n",
       "        text-align: right;\n",
       "    }\n",
       "</style>\n",
       "<table border=\"1\" class=\"dataframe\">\n",
       "  <thead>\n",
       "    <tr style=\"text-align: right;\">\n",
       "      <th></th>\n",
       "      <th>teams</th>\n",
       "      <th>Total_away_rain_wins</th>\n",
       "      <th>Total_away_rain_games</th>\n",
       "      <th>Total_home_rain_wins</th>\n",
       "      <th>Total_home_rain_games</th>\n",
       "    </tr>\n",
       "  </thead>\n",
       "  <tbody>\n",
       "    <tr>\n",
       "      <th>0</th>\n",
       "      <td>Aachen</td>\n",
       "      <td>0.0</td>\n",
       "      <td>1.0</td>\n",
       "      <td>0.0</td>\n",
       "      <td>2.0</td>\n",
       "    </tr>\n",
       "    <tr>\n",
       "      <th>1</th>\n",
       "      <td>Arsenal</td>\n",
       "      <td>2.0</td>\n",
       "      <td>4.0</td>\n",
       "      <td>0.0</td>\n",
       "      <td>1.0</td>\n",
       "    </tr>\n",
       "    <tr>\n",
       "      <th>2</th>\n",
       "      <td>Aston Villa</td>\n",
       "      <td>0.0</td>\n",
       "      <td>0.0</td>\n",
       "      <td>0.0</td>\n",
       "      <td>6.0</td>\n",
       "    </tr>\n",
       "    <tr>\n",
       "      <th>3</th>\n",
       "      <td>Augsburg</td>\n",
       "      <td>0.0</td>\n",
       "      <td>3.0</td>\n",
       "      <td>1.0</td>\n",
       "      <td>1.0</td>\n",
       "    </tr>\n",
       "    <tr>\n",
       "      <th>4</th>\n",
       "      <td>Bayern Munich</td>\n",
       "      <td>3.0</td>\n",
       "      <td>3.0</td>\n",
       "      <td>2.0</td>\n",
       "      <td>2.0</td>\n",
       "    </tr>\n",
       "  </tbody>\n",
       "</table>\n",
       "</div>"
      ],
      "text/plain": [
       "           teams  Total_away_rain_wins  Total_away_rain_games  \\\n",
       "0         Aachen                   0.0                    1.0   \n",
       "1        Arsenal                   2.0                    4.0   \n",
       "2    Aston Villa                   0.0                    0.0   \n",
       "3       Augsburg                   0.0                    3.0   \n",
       "4  Bayern Munich                   3.0                    3.0   \n",
       "\n",
       "   Total_home_rain_wins  Total_home_rain_games  \n",
       "0                   0.0                    2.0  \n",
       "1                   0.0                    1.0  \n",
       "2                   0.0                    6.0  \n",
       "3                   1.0                    1.0  \n",
       "4                   2.0                    2.0  "
      ]
     },
     "execution_count": 522,
     "metadata": {},
     "output_type": "execute_result"
    }
   ],
   "source": [
    "all_rain_games.head()"
   ]
  },
  {
   "cell_type": "code",
   "execution_count": 523,
   "metadata": {},
   "outputs": [],
   "source": [
    "all_rain_games['total_rain_wins'] = all_rain_games['Total_away_rain_wins'] + all_rain_games['Total_home_rain_wins']\n",
    "all_rain_games['total_rain_games'] = all_rain_games['Total_away_rain_games'] + all_rain_games['Total_home_rain_games']"
   ]
  },
  {
   "cell_type": "code",
   "execution_count": 524,
   "metadata": {},
   "outputs": [
    {
     "data": {
      "text/html": [
       "<div>\n",
       "<style scoped>\n",
       "    .dataframe tbody tr th:only-of-type {\n",
       "        vertical-align: middle;\n",
       "    }\n",
       "\n",
       "    .dataframe tbody tr th {\n",
       "        vertical-align: top;\n",
       "    }\n",
       "\n",
       "    .dataframe thead th {\n",
       "        text-align: right;\n",
       "    }\n",
       "</style>\n",
       "<table border=\"1\" class=\"dataframe\">\n",
       "  <thead>\n",
       "    <tr style=\"text-align: right;\">\n",
       "      <th></th>\n",
       "      <th>teams</th>\n",
       "      <th>Total_away_rain_wins</th>\n",
       "      <th>Total_away_rain_games</th>\n",
       "      <th>Total_home_rain_wins</th>\n",
       "      <th>Total_home_rain_games</th>\n",
       "      <th>total_rain_wins</th>\n",
       "      <th>total_rain_games</th>\n",
       "    </tr>\n",
       "  </thead>\n",
       "  <tbody>\n",
       "    <tr>\n",
       "      <th>0</th>\n",
       "      <td>Aachen</td>\n",
       "      <td>0.0</td>\n",
       "      <td>1.0</td>\n",
       "      <td>0.0</td>\n",
       "      <td>2.0</td>\n",
       "      <td>0.0</td>\n",
       "      <td>3.0</td>\n",
       "    </tr>\n",
       "  </tbody>\n",
       "</table>\n",
       "</div>"
      ],
      "text/plain": [
       "    teams  Total_away_rain_wins  Total_away_rain_games  Total_home_rain_wins  \\\n",
       "0  Aachen                   0.0                    1.0                   0.0   \n",
       "\n",
       "   Total_home_rain_games  total_rain_wins  total_rain_games  \n",
       "0                    2.0              0.0               3.0  "
      ]
     },
     "execution_count": 524,
     "metadata": {},
     "output_type": "execute_result"
    }
   ],
   "source": [
    "all_rain_games.head(1)"
   ]
  },
  {
   "cell_type": "code",
   "execution_count": 525,
   "metadata": {},
   "outputs": [],
   "source": [
    "all_rain_games['rain_win_pct'] = all_rain_games['total_rain_wins'] / all_rain_games['total_rain_games']"
   ]
  },
  {
   "cell_type": "code",
   "execution_count": 526,
   "metadata": {},
   "outputs": [
    {
     "data": {
      "text/html": [
       "<div>\n",
       "<style scoped>\n",
       "    .dataframe tbody tr th:only-of-type {\n",
       "        vertical-align: middle;\n",
       "    }\n",
       "\n",
       "    .dataframe tbody tr th {\n",
       "        vertical-align: top;\n",
       "    }\n",
       "\n",
       "    .dataframe thead th {\n",
       "        text-align: right;\n",
       "    }\n",
       "</style>\n",
       "<table border=\"1\" class=\"dataframe\">\n",
       "  <thead>\n",
       "    <tr style=\"text-align: right;\">\n",
       "      <th></th>\n",
       "      <th>teams</th>\n",
       "      <th>Total_away_rain_wins</th>\n",
       "      <th>Total_away_rain_games</th>\n",
       "      <th>Total_home_rain_wins</th>\n",
       "      <th>Total_home_rain_games</th>\n",
       "      <th>total_rain_wins</th>\n",
       "      <th>total_rain_games</th>\n",
       "      <th>rain_win_pct</th>\n",
       "    </tr>\n",
       "  </thead>\n",
       "  <tbody>\n",
       "    <tr>\n",
       "      <th>0</th>\n",
       "      <td>Aachen</td>\n",
       "      <td>0.0</td>\n",
       "      <td>1.0</td>\n",
       "      <td>0.0</td>\n",
       "      <td>2.0</td>\n",
       "      <td>0.0</td>\n",
       "      <td>3.0</td>\n",
       "      <td>0.00</td>\n",
       "    </tr>\n",
       "    <tr>\n",
       "      <th>1</th>\n",
       "      <td>Arsenal</td>\n",
       "      <td>2.0</td>\n",
       "      <td>4.0</td>\n",
       "      <td>0.0</td>\n",
       "      <td>1.0</td>\n",
       "      <td>2.0</td>\n",
       "      <td>5.0</td>\n",
       "      <td>0.40</td>\n",
       "    </tr>\n",
       "    <tr>\n",
       "      <th>2</th>\n",
       "      <td>Aston Villa</td>\n",
       "      <td>0.0</td>\n",
       "      <td>0.0</td>\n",
       "      <td>0.0</td>\n",
       "      <td>6.0</td>\n",
       "      <td>0.0</td>\n",
       "      <td>6.0</td>\n",
       "      <td>0.00</td>\n",
       "    </tr>\n",
       "    <tr>\n",
       "      <th>3</th>\n",
       "      <td>Augsburg</td>\n",
       "      <td>0.0</td>\n",
       "      <td>3.0</td>\n",
       "      <td>1.0</td>\n",
       "      <td>1.0</td>\n",
       "      <td>1.0</td>\n",
       "      <td>4.0</td>\n",
       "      <td>0.25</td>\n",
       "    </tr>\n",
       "    <tr>\n",
       "      <th>4</th>\n",
       "      <td>Bayern Munich</td>\n",
       "      <td>3.0</td>\n",
       "      <td>3.0</td>\n",
       "      <td>2.0</td>\n",
       "      <td>2.0</td>\n",
       "      <td>5.0</td>\n",
       "      <td>5.0</td>\n",
       "      <td>1.00</td>\n",
       "    </tr>\n",
       "  </tbody>\n",
       "</table>\n",
       "</div>"
      ],
      "text/plain": [
       "           teams  Total_away_rain_wins  Total_away_rain_games  \\\n",
       "0         Aachen                   0.0                    1.0   \n",
       "1        Arsenal                   2.0                    4.0   \n",
       "2    Aston Villa                   0.0                    0.0   \n",
       "3       Augsburg                   0.0                    3.0   \n",
       "4  Bayern Munich                   3.0                    3.0   \n",
       "\n",
       "   Total_home_rain_wins  Total_home_rain_games  total_rain_wins  \\\n",
       "0                   0.0                    2.0              0.0   \n",
       "1                   0.0                    1.0              2.0   \n",
       "2                   0.0                    6.0              0.0   \n",
       "3                   1.0                    1.0              1.0   \n",
       "4                   2.0                    2.0              5.0   \n",
       "\n",
       "   total_rain_games  rain_win_pct  \n",
       "0               3.0          0.00  \n",
       "1               5.0          0.40  \n",
       "2               6.0          0.00  \n",
       "3               4.0          0.25  \n",
       "4               5.0          1.00  "
      ]
     },
     "execution_count": 526,
     "metadata": {},
     "output_type": "execute_result"
    }
   ],
   "source": [
    "all_rain_games.head()"
   ]
  },
  {
   "cell_type": "code",
   "execution_count": 551,
   "metadata": {},
   "outputs": [
    {
     "data": {
      "text/html": [
       "<div>\n",
       "<style scoped>\n",
       "    .dataframe tbody tr th:only-of-type {\n",
       "        vertical-align: middle;\n",
       "    }\n",
       "\n",
       "    .dataframe tbody tr th {\n",
       "        vertical-align: top;\n",
       "    }\n",
       "\n",
       "    .dataframe thead th {\n",
       "        text-align: right;\n",
       "    }\n",
       "</style>\n",
       "<table border=\"1\" class=\"dataframe\">\n",
       "  <thead>\n",
       "    <tr style=\"text-align: right;\">\n",
       "      <th></th>\n",
       "      <th>Teams</th>\n",
       "      <th>Total_home_goals</th>\n",
       "      <th>Total_away_goals</th>\n",
       "      <th>Total_goals</th>\n",
       "      <th>Total_home_wins</th>\n",
       "      <th>Total_away_wins</th>\n",
       "      <th>Total_wins</th>\n",
       "      <th>rain_win_pct</th>\n",
       "    </tr>\n",
       "  </thead>\n",
       "  <tbody>\n",
       "    <tr>\n",
       "      <th>0</th>\n",
       "      <td>Aachen</td>\n",
       "      <td>15</td>\n",
       "      <td>15</td>\n",
       "      <td>30</td>\n",
       "      <td>4</td>\n",
       "      <td>2</td>\n",
       "      <td>6</td>\n",
       "      <td>0.00</td>\n",
       "    </tr>\n",
       "    <tr>\n",
       "      <th>1</th>\n",
       "      <td>Arsenal</td>\n",
       "      <td>39</td>\n",
       "      <td>35</td>\n",
       "      <td>74</td>\n",
       "      <td>12</td>\n",
       "      <td>9</td>\n",
       "      <td>21</td>\n",
       "      <td>0.40</td>\n",
       "    </tr>\n",
       "    <tr>\n",
       "      <th>2</th>\n",
       "      <td>Aston Villa</td>\n",
       "      <td>20</td>\n",
       "      <td>17</td>\n",
       "      <td>37</td>\n",
       "      <td>4</td>\n",
       "      <td>3</td>\n",
       "      <td>7</td>\n",
       "      <td>0.00</td>\n",
       "    </tr>\n",
       "    <tr>\n",
       "      <th>3</th>\n",
       "      <td>Augsburg</td>\n",
       "      <td>20</td>\n",
       "      <td>16</td>\n",
       "      <td>36</td>\n",
       "      <td>6</td>\n",
       "      <td>2</td>\n",
       "      <td>8</td>\n",
       "      <td>0.25</td>\n",
       "    </tr>\n",
       "    <tr>\n",
       "      <th>4</th>\n",
       "      <td>Bayern Munich</td>\n",
       "      <td>49</td>\n",
       "      <td>28</td>\n",
       "      <td>77</td>\n",
       "      <td>14</td>\n",
       "      <td>9</td>\n",
       "      <td>23</td>\n",
       "      <td>1.00</td>\n",
       "    </tr>\n",
       "  </tbody>\n",
       "</table>\n",
       "</div>"
      ],
      "text/plain": [
       "           Teams  Total_home_goals  Total_away_goals  Total_goals  \\\n",
       "0         Aachen                15                15           30   \n",
       "1        Arsenal                39                35           74   \n",
       "2    Aston Villa                20                17           37   \n",
       "3       Augsburg                20                16           36   \n",
       "4  Bayern Munich                49                28           77   \n",
       "\n",
       "   Total_home_wins  Total_away_wins  Total_wins  rain_win_pct  \n",
       "0                4                2           6          0.00  \n",
       "1               12                9          21          0.40  \n",
       "2                4                3           7          0.00  \n",
       "3                6                2           8          0.25  \n",
       "4               14                9          23          1.00  "
      ]
     },
     "execution_count": 551,
     "metadata": {},
     "output_type": "execute_result"
    }
   ],
   "source": [
    "final_df['rain_win_pct'] = all_rain_games['rain_win_pct']\n",
    "final_df.head()"
   ]
  },
  {
   "cell_type": "markdown",
   "metadata": {},
   "source": [
    "[Return to contents](#Table-of-contents)"
   ]
  },
  {
   "cell_type": "markdown",
   "metadata": {},
   "source": [
    "### Total number of losses"
   ]
  },
  {
   "cell_type": "code",
   "execution_count": 552,
   "metadata": {},
   "outputs": [
    {
     "data": {
      "text/html": [
       "<div>\n",
       "<style scoped>\n",
       "    .dataframe tbody tr th:only-of-type {\n",
       "        vertical-align: middle;\n",
       "    }\n",
       "\n",
       "    .dataframe tbody tr th {\n",
       "        vertical-align: top;\n",
       "    }\n",
       "\n",
       "    .dataframe thead th {\n",
       "        text-align: right;\n",
       "    }\n",
       "</style>\n",
       "<table border=\"1\" class=\"dataframe\">\n",
       "  <thead>\n",
       "    <tr style=\"text-align: right;\">\n",
       "      <th></th>\n",
       "      <th>Teams</th>\n",
       "      <th>Total_away_losses</th>\n",
       "    </tr>\n",
       "  </thead>\n",
       "  <tbody>\n",
       "    <tr>\n",
       "      <th>0</th>\n",
       "      <td>Aachen</td>\n",
       "      <td>8</td>\n",
       "    </tr>\n",
       "    <tr>\n",
       "      <th>1</th>\n",
       "      <td>Arsenal</td>\n",
       "      <td>7</td>\n",
       "    </tr>\n",
       "    <tr>\n",
       "      <th>2</th>\n",
       "      <td>Aston Villa</td>\n",
       "      <td>6</td>\n",
       "    </tr>\n",
       "    <tr>\n",
       "      <th>3</th>\n",
       "      <td>Augsburg</td>\n",
       "      <td>8</td>\n",
       "    </tr>\n",
       "    <tr>\n",
       "      <th>4</th>\n",
       "      <td>Bayern Munich</td>\n",
       "      <td>5</td>\n",
       "    </tr>\n",
       "  </tbody>\n",
       "</table>\n",
       "</div>"
      ],
      "text/plain": [
       "           Teams  Total_away_losses\n",
       "0         Aachen                  8\n",
       "1        Arsenal                  7\n",
       "2    Aston Villa                  6\n",
       "3       Augsburg                  8\n",
       "4  Bayern Munich                  5"
      ]
     },
     "execution_count": 552,
     "metadata": {},
     "output_type": "execute_result"
    }
   ],
   "source": [
    "q9 = '''select AwayTeam as Teams, count(FTR) as Total_away_losses from matchesdf where FTR = 'H' group by AwayTeam ;'''\n",
    "all_away_losses = pysqldf(q9)\n",
    "all_away_losses.head()"
   ]
  },
  {
   "cell_type": "code",
   "execution_count": 553,
   "metadata": {},
   "outputs": [
    {
     "data": {
      "text/html": [
       "<div>\n",
       "<style scoped>\n",
       "    .dataframe tbody tr th:only-of-type {\n",
       "        vertical-align: middle;\n",
       "    }\n",
       "\n",
       "    .dataframe tbody tr th {\n",
       "        vertical-align: top;\n",
       "    }\n",
       "\n",
       "    .dataframe thead th {\n",
       "        text-align: right;\n",
       "    }\n",
       "</style>\n",
       "<table border=\"1\" class=\"dataframe\">\n",
       "  <thead>\n",
       "    <tr style=\"text-align: right;\">\n",
       "      <th></th>\n",
       "      <th>Teams</th>\n",
       "      <th>Total_home_losses</th>\n",
       "    </tr>\n",
       "  </thead>\n",
       "  <tbody>\n",
       "    <tr>\n",
       "      <th>0</th>\n",
       "      <td>Aachen</td>\n",
       "      <td>7</td>\n",
       "    </tr>\n",
       "    <tr>\n",
       "      <th>1</th>\n",
       "      <td>Arsenal</td>\n",
       "      <td>3</td>\n",
       "    </tr>\n",
       "    <tr>\n",
       "      <th>2</th>\n",
       "      <td>Aston Villa</td>\n",
       "      <td>8</td>\n",
       "    </tr>\n",
       "    <tr>\n",
       "      <th>3</th>\n",
       "      <td>Augsburg</td>\n",
       "      <td>4</td>\n",
       "    </tr>\n",
       "    <tr>\n",
       "      <th>4</th>\n",
       "      <td>Bayern Munich</td>\n",
       "      <td>2</td>\n",
       "    </tr>\n",
       "  </tbody>\n",
       "</table>\n",
       "</div>"
      ],
      "text/plain": [
       "           Teams  Total_home_losses\n",
       "0         Aachen                  7\n",
       "1        Arsenal                  3\n",
       "2    Aston Villa                  8\n",
       "3       Augsburg                  4\n",
       "4  Bayern Munich                  2"
      ]
     },
     "execution_count": 553,
     "metadata": {},
     "output_type": "execute_result"
    }
   ],
   "source": [
    "q10 = '''select HomeTeam as Teams, count(FTR) as Total_home_losses from matchesdf where FTR = 'A' group by HomeTeam ;'''\n",
    "all_home_losses = pysqldf(q10)\n",
    "all_home_losses.head()"
   ]
  },
  {
   "cell_type": "code",
   "execution_count": 554,
   "metadata": {},
   "outputs": [],
   "source": [
    "final_df = pd.merge(final_df, all_home_losses, on='Teams', how='left')\n",
    "final_df = pd.merge(final_df, all_away_losses, on='Teams', how='left')"
   ]
  },
  {
   "cell_type": "code",
   "execution_count": 560,
   "metadata": {},
   "outputs": [
    {
     "data": {
      "text/plain": [
       "Teams                0\n",
       "Total_home_goals     0\n",
       "Total_away_goals     0\n",
       "Total_goals          0\n",
       "Total_home_wins      0\n",
       "Total_away_wins      0\n",
       "Total_wins           0\n",
       "rain_win_pct         0\n",
       "Total_home_losses    2\n",
       "Total_away_losses    0\n",
       "dtype: int64"
      ]
     },
     "execution_count": 560,
     "metadata": {},
     "output_type": "execute_result"
    }
   ],
   "source": [
    "final_df.isna().sum()"
   ]
  },
  {
   "cell_type": "code",
   "execution_count": 561,
   "metadata": {},
   "outputs": [],
   "source": [
    "final_df.fillna(0, inplace=True)"
   ]
  },
  {
   "cell_type": "code",
   "execution_count": 562,
   "metadata": {},
   "outputs": [
    {
     "data": {
      "text/plain": [
       "Teams                0\n",
       "Total_home_goals     0\n",
       "Total_away_goals     0\n",
       "Total_goals          0\n",
       "Total_home_wins      0\n",
       "Total_away_wins      0\n",
       "Total_wins           0\n",
       "rain_win_pct         0\n",
       "Total_home_losses    0\n",
       "Total_away_losses    0\n",
       "dtype: int64"
      ]
     },
     "execution_count": 562,
     "metadata": {},
     "output_type": "execute_result"
    }
   ],
   "source": [
    "final_df.isna().sum()"
   ]
  },
  {
   "cell_type": "code",
   "execution_count": 563,
   "metadata": {},
   "outputs": [],
   "source": [
    "final_df['Total_losses'] = final_df['Total_away_losses'] + final_df['Total_home_losses']"
   ]
  },
  {
   "cell_type": "code",
   "execution_count": 564,
   "metadata": {},
   "outputs": [
    {
     "data": {
      "text/html": [
       "<div>\n",
       "<style scoped>\n",
       "    .dataframe tbody tr th:only-of-type {\n",
       "        vertical-align: middle;\n",
       "    }\n",
       "\n",
       "    .dataframe tbody tr th {\n",
       "        vertical-align: top;\n",
       "    }\n",
       "\n",
       "    .dataframe thead th {\n",
       "        text-align: right;\n",
       "    }\n",
       "</style>\n",
       "<table border=\"1\" class=\"dataframe\">\n",
       "  <thead>\n",
       "    <tr style=\"text-align: right;\">\n",
       "      <th></th>\n",
       "      <th>Teams</th>\n",
       "      <th>Total_home_goals</th>\n",
       "      <th>Total_away_goals</th>\n",
       "      <th>Total_goals</th>\n",
       "      <th>Total_home_wins</th>\n",
       "      <th>Total_away_wins</th>\n",
       "      <th>Total_wins</th>\n",
       "      <th>rain_win_pct</th>\n",
       "      <th>Total_home_losses</th>\n",
       "      <th>Total_away_losses</th>\n",
       "      <th>Total_losses</th>\n",
       "    </tr>\n",
       "  </thead>\n",
       "  <tbody>\n",
       "    <tr>\n",
       "      <th>0</th>\n",
       "      <td>Aachen</td>\n",
       "      <td>15</td>\n",
       "      <td>15</td>\n",
       "      <td>30</td>\n",
       "      <td>4</td>\n",
       "      <td>2</td>\n",
       "      <td>6</td>\n",
       "      <td>0.00</td>\n",
       "      <td>7.0</td>\n",
       "      <td>8</td>\n",
       "      <td>15.0</td>\n",
       "    </tr>\n",
       "    <tr>\n",
       "      <th>1</th>\n",
       "      <td>Arsenal</td>\n",
       "      <td>39</td>\n",
       "      <td>35</td>\n",
       "      <td>74</td>\n",
       "      <td>12</td>\n",
       "      <td>9</td>\n",
       "      <td>21</td>\n",
       "      <td>0.40</td>\n",
       "      <td>3.0</td>\n",
       "      <td>7</td>\n",
       "      <td>10.0</td>\n",
       "    </tr>\n",
       "    <tr>\n",
       "      <th>2</th>\n",
       "      <td>Aston Villa</td>\n",
       "      <td>20</td>\n",
       "      <td>17</td>\n",
       "      <td>37</td>\n",
       "      <td>4</td>\n",
       "      <td>3</td>\n",
       "      <td>7</td>\n",
       "      <td>0.00</td>\n",
       "      <td>8.0</td>\n",
       "      <td>6</td>\n",
       "      <td>14.0</td>\n",
       "    </tr>\n",
       "    <tr>\n",
       "      <th>3</th>\n",
       "      <td>Augsburg</td>\n",
       "      <td>20</td>\n",
       "      <td>16</td>\n",
       "      <td>36</td>\n",
       "      <td>6</td>\n",
       "      <td>2</td>\n",
       "      <td>8</td>\n",
       "      <td>0.25</td>\n",
       "      <td>4.0</td>\n",
       "      <td>8</td>\n",
       "      <td>12.0</td>\n",
       "    </tr>\n",
       "    <tr>\n",
       "      <th>4</th>\n",
       "      <td>Bayern Munich</td>\n",
       "      <td>49</td>\n",
       "      <td>28</td>\n",
       "      <td>77</td>\n",
       "      <td>14</td>\n",
       "      <td>9</td>\n",
       "      <td>23</td>\n",
       "      <td>1.00</td>\n",
       "      <td>2.0</td>\n",
       "      <td>5</td>\n",
       "      <td>7.0</td>\n",
       "    </tr>\n",
       "  </tbody>\n",
       "</table>\n",
       "</div>"
      ],
      "text/plain": [
       "           Teams  Total_home_goals  Total_away_goals  Total_goals  \\\n",
       "0         Aachen                15                15           30   \n",
       "1        Arsenal                39                35           74   \n",
       "2    Aston Villa                20                17           37   \n",
       "3       Augsburg                20                16           36   \n",
       "4  Bayern Munich                49                28           77   \n",
       "\n",
       "   Total_home_wins  Total_away_wins  Total_wins  rain_win_pct  \\\n",
       "0                4                2           6          0.00   \n",
       "1               12                9          21          0.40   \n",
       "2                4                3           7          0.00   \n",
       "3                6                2           8          0.25   \n",
       "4               14                9          23          1.00   \n",
       "\n",
       "   Total_home_losses  Total_away_losses  Total_losses  \n",
       "0                7.0                  8          15.0  \n",
       "1                3.0                  7          10.0  \n",
       "2                8.0                  6          14.0  \n",
       "3                4.0                  8          12.0  \n",
       "4                2.0                  5           7.0  "
      ]
     },
     "execution_count": 564,
     "metadata": {},
     "output_type": "execute_result"
    }
   ],
   "source": [
    "final_df.head()"
   ]
  },
  {
   "cell_type": "markdown",
   "metadata": {},
   "source": [
    "[Return to contents](#Table-of-contents)"
   ]
  },
  {
   "cell_type": "markdown",
   "metadata": {},
   "source": [
    "### Histograms"
   ]
  },
  {
   "cell_type": "code",
   "execution_count": 578,
   "metadata": {},
   "outputs": [],
   "source": [
    "import matplotlib.pyplot as plt\n",
    "%matplotlib inline\n",
    "import numpy as np"
   ]
  },
  {
   "cell_type": "code",
   "execution_count": 612,
   "metadata": {
    "scrolled": true
   },
   "outputs": [
    {
     "name": "stdout",
     "output_type": "stream",
     "text": [
      "hist/figure1.jpeg\n"
     ]
    },
    {
     "data": {
      "image/png": "[encoded data removed]",
      "text/plain": [
       "<Figure size 432x288 with 1 Axes>"
      ]
     },
     "metadata": {
      "needs_background": "light"
     },
     "output_type": "display_data"
    },
    {
     "name": "stdout",
     "output_type": "stream",
     "text": [
      "hist/figure2.jpeg\n"
     ]
    },
    {
     "data": {
      "image/png": "[encoded data removed]",
      "text/plain": [
       "<Figure size 432x288 with 1 Axes>"
      ]
     },
     "metadata": {
      "needs_background": "light"
     },
     "output_type": "display_data"
    },
    {
     "name": "stdout",
     "output_type": "stream",
     "text": [
      "hist/figure3.jpeg\n"
     ]
    },
    {
     "data": {
      "image/png": "[encoded data removed]",
      "text/plain": [
       "<Figure size 432x288 with 1 Axes>"
      ]
     },
     "metadata": {
      "needs_background": "light"
     },
     "output_type": "display_data"
    },
    {
     "name": "stdout",
     "output_type": "stream",
     "text": [
      "hist/figure4.jpeg\n"
     ]
    },
    {
     "data": {
      "image/png": "[encoded data removed]",
      "text/plain": [
       "<Figure size 432x288 with 1 Axes>"
      ]
     },
     "metadata": {
      "needs_background": "light"
     },
     "output_type": "display_data"
    },
    {
     "name": "stdout",
     "output_type": "stream",
     "text": [
      "hist/figure5.jpeg\n"
     ]
    },
    {
     "data": {
      "image/png": "[encoded data removed]",
      "text/plain": [
       "<Figure size 432x288 with 1 Axes>"
      ]
     },
     "metadata": {
      "needs_background": "light"
     },
     "output_type": "display_data"
    },
    {
     "name": "stdout",
     "output_type": "stream",
     "text": [
      "hist/figure6.jpeg\n"
     ]
    },
    {
     "data": {
      "image/png": "[encoded data removed]",
      "text/plain": [
       "<Figure size 432x288 with 1 Axes>"
      ]
     },
     "metadata": {
      "needs_background": "light"
     },
     "output_type": "display_data"
    },
    {
     "name": "stdout",
     "output_type": "stream",
     "text": [
      "hist/figure7.jpeg\n"
     ]
    },
    {
     "data": {
      "image/png": "[encoded data removed]",
      "text/plain": [
       "<Figure size 432x288 with 1 Axes>"
      ]
     },
     "metadata": {
      "needs_background": "light"
     },
     "output_type": "display_data"
    },
    {
     "name": "stdout",
     "output_type": "stream",
     "text": [
      "hist/figure8.jpeg\n"
     ]
    },
    {
     "data": {
      "image/png": "[encoded data removed]",
      "text/plain": [
       "<Figure size 432x288 with 1 Axes>"
      ]
     },
     "metadata": {
      "needs_background": "light"
     },
     "output_type": "display_data"
    },
    {
     "name": "stdout",
     "output_type": "stream",
     "text": [
      "hist/figure9.jpeg\n"
     ]
    },
    {
     "data": {
      "image/png": "[encoded data removed]",
      "text/plain": [
       "<Figure size 432x288 with 1 Axes>"
      ]
     },
     "metadata": {
      "needs_background": "light"
     },
     "output_type": "display_data"
    },
    {
     "name": "stdout",
     "output_type": "stream",
     "text": [
      "hist/figure10.jpeg\n"
     ]
    },
    {
     "data": {
      "image/png": "[encoded data removed]",
      "text/plain": [
       "<Figure size 432x288 with 1 Axes>"
      ]
     },
     "metadata": {
      "needs_background": "light"
     },
     "output_type": "display_data"
    },
    {
     "name": "stdout",
     "output_type": "stream",
     "text": [
      "hist/figure11.jpeg\n"
     ]
    },
    {
     "data": {
      "image/png": "[encoded data removed]",
      "text/plain": [
       "<Figure size 432x288 with 1 Axes>"
      ]
     },
     "metadata": {
      "needs_background": "light"
     },
     "output_type": "display_data"
    },
    {
     "name": "stdout",
     "output_type": "stream",
     "text": [
      "hist/figure12.jpeg\n"
     ]
    },
    {
     "data": {
      "image/png": "[encoded data removed]",
      "text/plain": [
       "<Figure size 432x288 with 1 Axes>"
      ]
     },
     "metadata": {
      "needs_background": "light"
     },
     "output_type": "display_data"
    },
    {
     "name": "stdout",
     "output_type": "stream",
     "text": [
      "hist/figure13.jpeg\n"
     ]
    },
    {
     "data": {
      "image/png": "[encoded data removed]",
      "text/plain": [
       "<Figure size 432x288 with 1 Axes>"
      ]
     },
     "metadata": {
      "needs_background": "light"
     },
     "output_type": "display_data"
    },
    {
     "name": "stdout",
     "output_type": "stream",
     "text": [
      "hist/figure14.jpeg\n"
     ]
    },
    {
     "data": {
      "image/png": "[encoded data removed]",
      "text/plain": [
       "<Figure size 432x288 with 1 Axes>"
      ]
     },
     "metadata": {
      "needs_background": "light"
     },
     "output_type": "display_data"
    },
    {
     "name": "stdout",
     "output_type": "stream",
     "text": [
      "hist/figure15.jpeg\n"
     ]
    },
    {
     "data": {
      "image/png": "[encoded data removed]",
      "text/plain": [
       "<Figure size 432x288 with 1 Axes>"
      ]
     },
     "metadata": {
      "needs_background": "light"
     },
     "output_type": "display_data"
    },
    {
     "name": "stdout",
     "output_type": "stream",
     "text": [
      "hist/figure16.jpeg\n"
     ]
    },
    {
     "data": {
      "image/png": "[encoded data removed]",
      "text/plain": [
       "<Figure size 432x288 with 1 Axes>"
      ]
     },
     "metadata": {
      "needs_background": "light"
     },
     "output_type": "display_data"
    },
    {
     "name": "stdout",
     "output_type": "stream",
     "text": [
      "hist/figure17.jpeg\n"
     ]
    },
    {
     "data": {
      "image/png": "[encoded data removed]",
      "text/plain": [
       "<Figure size 432x288 with 1 Axes>"
      ]
     },
     "metadata": {
      "needs_background": "light"
     },
     "output_type": "display_data"
    },
    {
     "name": "stdout",
     "output_type": "stream",
     "text": [
      "hist/figure18.jpeg\n"
     ]
    },
    {
     "data": {
      "image/png": "[encoded data removed]",
      "text/plain": [
       "<Figure size 432x288 with 1 Axes>"
      ]
     },
     "metadata": {
      "needs_background": "light"
     },
     "output_type": "display_data"
    },
    {
     "name": "stdout",
     "output_type": "stream",
     "text": [
      "hist/figure19.jpeg\n"
     ]
    },
    {
     "data": {
      "image/png": "[encoded data removed]",
      "text/plain": [
       "<Figure size 432x288 with 1 Axes>"
      ]
     },
     "metadata": {
      "needs_background": "light"
     },
     "output_type": "display_data"
    },
    {
     "name": "stdout",
     "output_type": "stream",
     "text": [
      "hist/figure20.jpeg\n"
     ]
    },
    {
     "data": {
      "image/png": "[encoded data removed]",
      "text/plain": [
       "<Figure size 432x288 with 1 Axes>"
      ]
     },
     "metadata": {
      "needs_background": "light"
     },
     "output_type": "display_data"
    },
    {
     "name": "stdout",
     "output_type": "stream",
     "text": [
      "hist/figure21.jpeg\n"
     ]
    },
    {
     "data": {
      "image/png": "[encoded data removed]",
      "text/plain": [
       "<Figure size 432x288 with 1 Axes>"
      ]
     },
     "metadata": {
      "needs_background": "light"
     },
     "output_type": "display_data"
    },
    {
     "name": "stdout",
     "output_type": "stream",
     "text": [
      "hist/figure22.jpeg\n"
     ]
    },
    {
     "data": {
      "image/png": "[encoded data removed]",
      "text/plain": [
       "<Figure size 432x288 with 1 Axes>"
      ]
     },
     "metadata": {
      "needs_background": "light"
     },
     "output_type": "display_data"
    },
    {
     "name": "stdout",
     "output_type": "stream",
     "text": [
      "hist/figure23.jpeg\n"
     ]
    },
    {
     "data": {
      "image/png": "[encoded data removed]",
      "text/plain": [
       "<Figure size 432x288 with 1 Axes>"
      ]
     },
     "metadata": {
      "needs_background": "light"
     },
     "output_type": "display_data"
    },
    {
     "name": "stdout",
     "output_type": "stream",
     "text": [
      "hist/figure24.jpeg\n"
     ]
    },
    {
     "data": {
      "image/png": "[encoded data removed]",
      "text/plain": [
       "<Figure size 432x288 with 1 Axes>"
      ]
     },
     "metadata": {
      "needs_background": "light"
     },
     "output_type": "display_data"
    },
    {
     "name": "stdout",
     "output_type": "stream",
     "text": [
      "hist/figure25.jpeg\n"
     ]
    },
    {
     "data": {
      "image/png": "[encoded data removed]",
      "text/plain": [
       "<Figure size 432x288 with 1 Axes>"
      ]
     },
     "metadata": {
      "needs_background": "light"
     },
     "output_type": "display_data"
    },
    {
     "name": "stdout",
     "output_type": "stream",
     "text": [
      "hist/figure26.jpeg\n"
     ]
    },
    {
     "data": {
      "image/png": "[encoded data removed]",
      "text/plain": [
       "<Figure size 432x288 with 1 Axes>"
      ]
     },
     "metadata": {
      "needs_background": "light"
     },
     "output_type": "display_data"
    },
    {
     "name": "stdout",
     "output_type": "stream",
     "text": [
      "hist/figure27.jpeg\n"
     ]
    },
    {
     "data": {
      "image/png": "[encoded data removed]",
      "text/plain": [
       "<Figure size 432x288 with 1 Axes>"
      ]
     },
     "metadata": {
      "needs_background": "light"
     },
     "output_type": "display_data"
    },
    {
     "name": "stdout",
     "output_type": "stream",
     "text": [
      "hist/figure28.jpeg\n"
     ]
    },
    {
     "data": {
      "image/png": "[encoded data removed]",
      "text/plain": [
       "<Figure size 432x288 with 1 Axes>"
      ]
     },
     "metadata": {
      "needs_background": "light"
     },
     "output_type": "display_data"
    },
    {
     "name": "stdout",
     "output_type": "stream",
     "text": [
      "hist/figure29.jpeg\n"
     ]
    },
    {
     "data": {
      "image/png": "[encoded data removed]",
      "text/plain": [
       "<Figure size 432x288 with 1 Axes>"
      ]
     },
     "metadata": {
      "needs_background": "light"
     },
     "output_type": "display_data"
    },
    {
     "name": "stdout",
     "output_type": "stream",
     "text": [
      "hist/figure30.jpeg\n"
     ]
    },
    {
     "data": {
      "image/png": "[encoded data removed]",
      "text/plain": [
       "<Figure size 432x288 with 1 Axes>"
      ]
     },
     "metadata": {
      "needs_background": "light"
     },
     "output_type": "display_data"
    },
    {
     "name": "stdout",
     "output_type": "stream",
     "text": [
      "hist/figure31.jpeg\n"
     ]
    },
    {
     "data": {
      "image/png": "[encoded data removed]",
      "text/plain": [
       "<Figure size 432x288 with 1 Axes>"
      ]
     },
     "metadata": {
      "needs_background": "light"
     },
     "output_type": "display_data"
    },
    {
     "name": "stdout",
     "output_type": "stream",
     "text": [
      "hist/figure32.jpeg\n"
     ]
    },
    {
     "data": {
      "image/png": "[encoded data removed]",
      "text/plain": [
       "<Figure size 432x288 with 1 Axes>"
      ]
     },
     "metadata": {
      "needs_background": "light"
     },
     "output_type": "display_data"
    },
    {
     "name": "stdout",
     "output_type": "stream",
     "text": [
      "hist/figure33.jpeg\n"
     ]
    },
    {
     "data": {
      "image/png": "[encoded data removed]",
      "text/plain": [
       "<Figure size 432x288 with 1 Axes>"
      ]
     },
     "metadata": {
      "needs_background": "light"
     },
     "output_type": "display_data"
    },
    {
     "name": "stdout",
     "output_type": "stream",
     "text": [
      "hist/figure34.jpeg\n"
     ]
    },
    {
     "data": {
      "image/png": "[encoded data removed]",
      "text/plain": [
       "<Figure size 432x288 with 1 Axes>"
      ]
     },
     "metadata": {
      "needs_background": "light"
     },
     "output_type": "display_data"
    },
    {
     "name": "stdout",
     "output_type": "stream",
     "text": [
      "hist/figure35.jpeg\n"
     ]
    },
    {
     "data": {
      "image/png": "[encoded data removed]",
      "text/plain": [
       "<Figure size 432x288 with 1 Axes>"
      ]
     },
     "metadata": {
      "needs_background": "light"
     },
     "output_type": "display_data"
    },
    {
     "name": "stdout",
     "output_type": "stream",
     "text": [
      "hist/figure36.jpeg\n"
     ]
    },
    {
     "data": {
      "image/png": "[encoded data removed]",
      "text/plain": [
       "<Figure size 432x288 with 1 Axes>"
      ]
     },
     "metadata": {
      "needs_background": "light"
     },
     "output_type": "display_data"
    },
    {
     "name": "stdout",
     "output_type": "stream",
     "text": [
      "hist/figure37.jpeg\n"
     ]
    },
    {
     "data": {
      "image/png": "[encoded data removed]",
      "text/plain": [
       "<Figure size 432x288 with 1 Axes>"
      ]
     },
     "metadata": {
      "needs_background": "light"
     },
     "output_type": "display_data"
    },
    {
     "name": "stdout",
     "output_type": "stream",
     "text": [
      "hist/figure38.jpeg\n"
     ]
    },
    {
     "data": {
      "image/png": "[encoded data removed]",
      "text/plain": [
       "<Figure size 432x288 with 1 Axes>"
      ]
     },
     "metadata": {
      "needs_background": "light"
     },
     "output_type": "display_data"
    },
    {
     "name": "stdout",
     "output_type": "stream",
     "text": [
      "hist/figure39.jpeg\n"
     ]
    },
    {
     "data": {
      "image/png": "[encoded data removed]",
      "text/plain": [
       "<Figure size 432x288 with 1 Axes>"
      ]
     },
     "metadata": {
      "needs_background": "light"
     },
     "output_type": "display_data"
    },
    {
     "name": "stdout",
     "output_type": "stream",
     "text": [
      "hist/figure40.jpeg\n"
     ]
    },
    {
     "data": {
      "image/png": "[encoded data removed]",
      "text/plain": [
       "<Figure size 432x288 with 1 Axes>"
      ]
     },
     "metadata": {
      "needs_background": "light"
     },
     "output_type": "display_data"
    },
    {
     "name": "stdout",
     "output_type": "stream",
     "text": [
      "hist/figure41.jpeg\n"
     ]
    },
    {
     "data": {
      "image/png": "[encoded data removed]",
      "text/plain": [
       "<Figure size 432x288 with 1 Axes>"
      ]
     },
     "metadata": {
      "needs_background": "light"
     },
     "output_type": "display_data"
    },
    {
     "name": "stdout",
     "output_type": "stream",
     "text": [
      "hist/figure42.jpeg\n"
     ]
    },
    {
     "data": {
      "image/png": "[encoded data removed]",
      "text/plain": [
       "<Figure size 432x288 with 1 Axes>"
      ]
     },
     "metadata": {
      "needs_background": "light"
     },
     "output_type": "display_data"
    },
    {
     "name": "stdout",
     "output_type": "stream",
     "text": [
      "hist/figure43.jpeg\n"
     ]
    },
    {
     "data": {
      "image/png": "[encoded data removed]",
      "text/plain": [
       "<Figure size 432x288 with 1 Axes>"
      ]
     },
     "metadata": {
      "needs_background": "light"
     },
     "output_type": "display_data"
    },
    {
     "name": "stdout",
     "output_type": "stream",
     "text": [
      "hist/figure44.jpeg\n"
     ]
    },
    {
     "data": {
      "image/png": "[encoded data removed]",
      "text/plain": [
       "<Figure size 432x288 with 1 Axes>"
      ]
     },
     "metadata": {
      "needs_background": "light"
     },
     "output_type": "display_data"
    },
    {
     "name": "stdout",
     "output_type": "stream",
     "text": [
      "hist/figure45.jpeg\n"
     ]
    },
    {
     "data": {
      "image/png": "[encoded data removed]",
      "text/plain": [
       "<Figure size 432x288 with 1 Axes>"
      ]
     },
     "metadata": {
      "needs_background": "light"
     },
     "output_type": "display_data"
    },
    {
     "name": "stdout",
     "output_type": "stream",
     "text": [
      "hist/figure46.jpeg\n"
     ]
    },
    {
     "data": {
      "image/png": "[encoded data removed]",
      "text/plain": [
       "<Figure size 432x288 with 1 Axes>"
      ]
     },
     "metadata": {
      "needs_background": "light"
     },
     "output_type": "display_data"
    },
    {
     "name": "stdout",
     "output_type": "stream",
     "text": [
      "hist/figure47.jpeg\n"
     ]
    },
    {
     "data": {
      "image/png": "[encoded data removed]",
      "text/plain": [
       "<Figure size 432x288 with 1 Axes>"
      ]
     },
     "metadata": {
      "needs_background": "light"
     },
     "output_type": "display_data"
    },
    {
     "name": "stdout",
     "output_type": "stream",
     "text": [
      "hist/figure48.jpeg\n"
     ]
    },
    {
     "data": {
      "image/png": "[encoded data removed]",
      "text/plain": [
       "<Figure size 432x288 with 1 Axes>"
      ]
     },
     "metadata": {
      "needs_background": "light"
     },
     "output_type": "display_data"
    },
    {
     "name": "stdout",
     "output_type": "stream",
     "text": [
      "hist/figure49.jpeg\n"
     ]
    },
    {
     "data": {
      "image/png": "[encoded data removed]",
      "text/plain": [
       "<Figure size 432x288 with 1 Axes>"
      ]
     },
     "metadata": {
      "needs_background": "light"
     },
     "output_type": "display_data"
    },
    {
     "name": "stdout",
     "output_type": "stream",
     "text": [
      "hist/figure50.jpeg\n"
     ]
    },
    {
     "data": {
      "image/png": "[encoded data removed]",
      "text/plain": [
       "<Figure size 432x288 with 1 Axes>"
      ]
     },
     "metadata": {
      "needs_background": "light"
     },
     "output_type": "display_data"
    },
    {
     "name": "stdout",
     "output_type": "stream",
     "text": [
      "hist/figure51.jpeg\n"
     ]
    },
    {
     "data": {
      "image/png": "[encoded data removed]",
      "text/plain": [
       "<Figure size 432x288 with 1 Axes>"
      ]
     },
     "metadata": {
      "needs_background": "light"
     },
     "output_type": "display_data"
    },
    {
     "name": "stdout",
     "output_type": "stream",
     "text": [
      "hist/figure52.jpeg\n"
     ]
    },
    {
     "data": {
      "image/png": "[encoded data removed]",
      "text/plain": [
       "<Figure size 432x288 with 1 Axes>"
      ]
     },
     "metadata": {
      "needs_background": "light"
     },
     "output_type": "display_data"
    },
    {
     "name": "stdout",
     "output_type": "stream",
     "text": [
      "hist/figure53.jpeg\n"
     ]
    },
    {
     "data": {
      "image/png": "[encoded data removed]",
      "text/plain": [
       "<Figure size 432x288 with 1 Axes>"
      ]
     },
     "metadata": {
      "needs_background": "light"
     },
     "output_type": "display_data"
    },
    {
     "name": "stdout",
     "output_type": "stream",
     "text": [
      "hist/figure54.jpeg\n"
     ]
    },
    {
     "data": {
      "image/png": "[encoded data removed]",
      "text/plain": [
       "<Figure size 432x288 with 1 Axes>"
      ]
     },
     "metadata": {
      "needs_background": "light"
     },
     "output_type": "display_data"
    },
    {
     "name": "stdout",
     "output_type": "stream",
     "text": [
      "hist/figure55.jpeg\n"
     ]
    },
    {
     "data": {
      "image/png": "[encoded data removed]",
      "text/plain": [
       "<Figure size 432x288 with 1 Axes>"
      ]
     },
     "metadata": {
      "needs_background": "light"
     },
     "output_type": "display_data"
    },
    {
     "name": "stdout",
     "output_type": "stream",
     "text": [
      "hist/figure56.jpeg\n"
     ]
    },
    {
     "data": {
      "image/png": "[encoded data removed]",
      "text/plain": [
       "<Figure size 432x288 with 1 Axes>"
      ]
     },
     "metadata": {
      "needs_background": "light"
     },
     "output_type": "display_data"
    }
   ],
   "source": [
    "i = 1\n",
    "for index, row in final_df.iterrows():\n",
    "    \n",
    "    x = row['Total_wins']\n",
    "    y = row['Total_losses']\n",
    "    \n",
    "    plt.hist(x, alpha=0.5, label='Wins')\n",
    "    plt.hist(y, alpha=0.5, label='Losses')\n",
    "    plt.title(row.Teams)\n",
    "    plt.legend(loc='upper right')\n",
    "    location = f'hist/figure{i}.jpeg'\n",
    "    print(location)\n",
    "    plt.savefig(location)\n",
    "    plt.show()\n",
    "    i += 1"
   ]
  },
  {
   "cell_type": "markdown",
   "metadata": {},
   "source": [
    "[Return to contents](#Table-of-contents)"
   ]
  },
  {
   "cell_type": "markdown",
   "metadata": {},
   "source": [
    "### Mongo"
   ]
  },
  {
   "cell_type": "code",
   "execution_count": 624,
   "metadata": {},
   "outputs": [],
   "source": [
    "import pymongo"
   ]
  },
  {
   "cell_type": "code",
   "execution_count": 648,
   "metadata": {},
   "outputs": [],
   "source": [
    "from PIL import Image, ImageShow"
   ]
  },
  {
   "cell_type": "code",
   "execution_count": 625,
   "metadata": {},
   "outputs": [],
   "source": [
    "myclient = pymongo.MongoClient(host='localhost', port=27017)"
   ]
  },
  {
   "cell_type": "code",
   "execution_count": 626,
   "metadata": {},
   "outputs": [],
   "source": [
    "mydb = myclient['mod2_db']"
   ]
  },
  {
   "cell_type": "code",
   "execution_count": 627,
   "metadata": {},
   "outputs": [],
   "source": [
    "mycollection = mydb['soccer']"
   ]
  },
  {
   "cell_type": "code",
   "execution_count": 628,
   "metadata": {},
   "outputs": [
    {
     "data": {
      "text/html": [
       "<div>\n",
       "<style scoped>\n",
       "    .dataframe tbody tr th:only-of-type {\n",
       "        vertical-align: middle;\n",
       "    }\n",
       "\n",
       "    .dataframe tbody tr th {\n",
       "        vertical-align: top;\n",
       "    }\n",
       "\n",
       "    .dataframe thead th {\n",
       "        text-align: right;\n",
       "    }\n",
       "</style>\n",
       "<table border=\"1\" class=\"dataframe\">\n",
       "  <thead>\n",
       "    <tr style=\"text-align: right;\">\n",
       "      <th></th>\n",
       "      <th>Teams</th>\n",
       "      <th>Total_home_goals</th>\n",
       "      <th>Total_away_goals</th>\n",
       "      <th>Total_goals</th>\n",
       "      <th>Total_home_wins</th>\n",
       "      <th>Total_away_wins</th>\n",
       "      <th>Total_wins</th>\n",
       "      <th>rain_win_pct</th>\n",
       "      <th>Total_home_losses</th>\n",
       "      <th>Total_away_losses</th>\n",
       "      <th>Total_losses</th>\n",
       "    </tr>\n",
       "  </thead>\n",
       "  <tbody>\n",
       "    <tr>\n",
       "      <th>0</th>\n",
       "      <td>Aachen</td>\n",
       "      <td>15</td>\n",
       "      <td>15</td>\n",
       "      <td>30</td>\n",
       "      <td>4</td>\n",
       "      <td>2</td>\n",
       "      <td>6</td>\n",
       "      <td>0.00</td>\n",
       "      <td>7.0</td>\n",
       "      <td>8</td>\n",
       "      <td>15.0</td>\n",
       "    </tr>\n",
       "    <tr>\n",
       "      <th>1</th>\n",
       "      <td>Arsenal</td>\n",
       "      <td>39</td>\n",
       "      <td>35</td>\n",
       "      <td>74</td>\n",
       "      <td>12</td>\n",
       "      <td>9</td>\n",
       "      <td>21</td>\n",
       "      <td>0.40</td>\n",
       "      <td>3.0</td>\n",
       "      <td>7</td>\n",
       "      <td>10.0</td>\n",
       "    </tr>\n",
       "    <tr>\n",
       "      <th>2</th>\n",
       "      <td>Aston Villa</td>\n",
       "      <td>20</td>\n",
       "      <td>17</td>\n",
       "      <td>37</td>\n",
       "      <td>4</td>\n",
       "      <td>3</td>\n",
       "      <td>7</td>\n",
       "      <td>0.00</td>\n",
       "      <td>8.0</td>\n",
       "      <td>6</td>\n",
       "      <td>14.0</td>\n",
       "    </tr>\n",
       "    <tr>\n",
       "      <th>3</th>\n",
       "      <td>Augsburg</td>\n",
       "      <td>20</td>\n",
       "      <td>16</td>\n",
       "      <td>36</td>\n",
       "      <td>6</td>\n",
       "      <td>2</td>\n",
       "      <td>8</td>\n",
       "      <td>0.25</td>\n",
       "      <td>4.0</td>\n",
       "      <td>8</td>\n",
       "      <td>12.0</td>\n",
       "    </tr>\n",
       "    <tr>\n",
       "      <th>4</th>\n",
       "      <td>Bayern Munich</td>\n",
       "      <td>49</td>\n",
       "      <td>28</td>\n",
       "      <td>77</td>\n",
       "      <td>14</td>\n",
       "      <td>9</td>\n",
       "      <td>23</td>\n",
       "      <td>1.00</td>\n",
       "      <td>2.0</td>\n",
       "      <td>5</td>\n",
       "      <td>7.0</td>\n",
       "    </tr>\n",
       "  </tbody>\n",
       "</table>\n",
       "</div>"
      ],
      "text/plain": [
       "           Teams  Total_home_goals  Total_away_goals  Total_goals  \\\n",
       "0         Aachen                15                15           30   \n",
       "1        Arsenal                39                35           74   \n",
       "2    Aston Villa                20                17           37   \n",
       "3       Augsburg                20                16           36   \n",
       "4  Bayern Munich                49                28           77   \n",
       "\n",
       "   Total_home_wins  Total_away_wins  Total_wins  rain_win_pct  \\\n",
       "0                4                2           6          0.00   \n",
       "1               12                9          21          0.40   \n",
       "2                4                3           7          0.00   \n",
       "3                6                2           8          0.25   \n",
       "4               14                9          23          1.00   \n",
       "\n",
       "   Total_home_losses  Total_away_losses  Total_losses  \n",
       "0                7.0                  8          15.0  \n",
       "1                3.0                  7          10.0  \n",
       "2                8.0                  6          14.0  \n",
       "3                4.0                  8          12.0  \n",
       "4                2.0                  5           7.0  "
      ]
     },
     "execution_count": 628,
     "metadata": {},
     "output_type": "execute_result"
    }
   ],
   "source": [
    "final_df.head()"
   ]
  },
  {
   "cell_type": "code",
   "execution_count": 629,
   "metadata": {},
   "outputs": [],
   "source": [
    "final_df.drop(['Total_home_goals', 'Total_away_goals', 'Total_home_wins', 'Total_away_wins', 'Total_home_losses', 'Total_away_losses'], axis=1, inplace=True)"
   ]
  },
  {
   "cell_type": "code",
   "execution_count": 631,
   "metadata": {},
   "outputs": [],
   "source": [
    "final_df.drop(['Total_losses'], axis=1, inplace=True)"
   ]
  },
  {
   "cell_type": "code",
   "execution_count": 632,
   "metadata": {},
   "outputs": [
    {
     "data": {
      "text/html": [
       "<div>\n",
       "<style scoped>\n",
       "    .dataframe tbody tr th:only-of-type {\n",
       "        vertical-align: middle;\n",
       "    }\n",
       "\n",
       "    .dataframe tbody tr th {\n",
       "        vertical-align: top;\n",
       "    }\n",
       "\n",
       "    .dataframe thead th {\n",
       "        text-align: right;\n",
       "    }\n",
       "</style>\n",
       "<table border=\"1\" class=\"dataframe\">\n",
       "  <thead>\n",
       "    <tr style=\"text-align: right;\">\n",
       "      <th></th>\n",
       "      <th>Teams</th>\n",
       "      <th>Total_goals</th>\n",
       "      <th>Total_wins</th>\n",
       "      <th>rain_win_pct</th>\n",
       "    </tr>\n",
       "  </thead>\n",
       "  <tbody>\n",
       "    <tr>\n",
       "      <th>0</th>\n",
       "      <td>Aachen</td>\n",
       "      <td>30</td>\n",
       "      <td>6</td>\n",
       "      <td>0.00</td>\n",
       "    </tr>\n",
       "    <tr>\n",
       "      <th>1</th>\n",
       "      <td>Arsenal</td>\n",
       "      <td>74</td>\n",
       "      <td>21</td>\n",
       "      <td>0.40</td>\n",
       "    </tr>\n",
       "    <tr>\n",
       "      <th>2</th>\n",
       "      <td>Aston Villa</td>\n",
       "      <td>37</td>\n",
       "      <td>7</td>\n",
       "      <td>0.00</td>\n",
       "    </tr>\n",
       "    <tr>\n",
       "      <th>3</th>\n",
       "      <td>Augsburg</td>\n",
       "      <td>36</td>\n",
       "      <td>8</td>\n",
       "      <td>0.25</td>\n",
       "    </tr>\n",
       "    <tr>\n",
       "      <th>4</th>\n",
       "      <td>Bayern Munich</td>\n",
       "      <td>77</td>\n",
       "      <td>23</td>\n",
       "      <td>1.00</td>\n",
       "    </tr>\n",
       "  </tbody>\n",
       "</table>\n",
       "</div>"
      ],
      "text/plain": [
       "           Teams  Total_goals  Total_wins  rain_win_pct\n",
       "0         Aachen           30           6          0.00\n",
       "1        Arsenal           74          21          0.40\n",
       "2    Aston Villa           37           7          0.00\n",
       "3       Augsburg           36           8          0.25\n",
       "4  Bayern Munich           77          23          1.00"
      ]
     },
     "execution_count": 632,
     "metadata": {},
     "output_type": "execute_result"
    }
   ],
   "source": [
    "final_df.head()"
   ]
  },
  {
   "cell_type": "code",
   "execution_count": 639,
   "metadata": {},
   "outputs": [],
   "source": [
    "def df_to_mongo(df = df):\n",
    "    for index, row in df.iterrows():\n",
    "        doc = dict(row) \n",
    "        mycollection.insert_one(doc)\n",
    "        break"
   ]
  },
  {
   "cell_type": "code",
   "execution_count": 676,
   "metadata": {},
   "outputs": [],
   "source": [
    "df_to_mongo(df = final_df)"
   ]
  },
  {
   "cell_type": "code",
   "execution_count": 635,
   "metadata": {},
   "outputs": [
    {
     "data": {
      "text/plain": [
       "[{'_id': ObjectId('5d03a888322862ab70f02db0'),\n",
       "  'Teams': 'Aachen',\n",
       "  'Total_goals': 30,\n",
       "  'Total_wins': 6,\n",
       "  'rain_win_pct': 0.0}]"
      ]
     },
     "execution_count": 635,
     "metadata": {},
     "output_type": "execute_result"
    }
   ],
   "source": [
    "list(mycollection.find({}))"
   ]
  },
  {
   "cell_type": "code",
   "execution_count": 651,
   "metadata": {},
   "outputs": [],
   "source": [
    "location = 'hist/figure1.jpeg'"
   ]
  },
  {
   "cell_type": "code",
   "execution_count": 652,
   "metadata": {},
   "outputs": [
    {
     "data": {
      "text/plain": [
       "'hist/figure1.jpeg'"
      ]
     },
     "execution_count": 652,
     "metadata": {},
     "output_type": "execute_result"
    }
   ],
   "source": [
    "location"
   ]
  },
  {
   "cell_type": "code",
   "execution_count": 653,
   "metadata": {},
   "outputs": [],
   "source": [
    "i = Image.open(location)"
   ]
  },
  {
   "cell_type": "code",
   "execution_count": 654,
   "metadata": {},
   "outputs": [
    {
     "data": {
      "image/png": "[encoded data removed]",
      "text/plain": [
       "<PIL.JpegImagePlugin.JpegImageFile image mode=RGB size=432x288 at 0x1EEC67A3828>"
      ]
     },
     "execution_count": 654,
     "metadata": {},
     "output_type": "execute_result"
    }
   ],
   "source": [
    "i"
   ]
  },
  {
   "cell_type": "code",
   "execution_count": 726,
   "metadata": {},
   "outputs": [],
   "source": [
    "def image_to_mongo(df = df):\n",
    "    i = 1\n",
    "    for team in df.Teams:\n",
    "        record_to_update = {'Teams': team}\n",
    "        location = f'hist/figure{i}.jpeg' \n",
    "        update = {\"$set\": {'image': location}}\n",
    "        mycollection.update_one(record_to_update, update)\n",
    "        i += 1\n",
    "        break\n",
    "    "
   ]
  },
  {
   "cell_type": "code",
   "execution_count": 689,
   "metadata": {},
   "outputs": [
    {
     "name": "stdout",
     "output_type": "stream",
     "text": [
      "1\n",
      "Aachen\n",
      "hist/figure1.jpeg\n"
     ]
    }
   ],
   "source": [
    "image_to_mongo(df = final_df)"
   ]
  },
  {
   "cell_type": "code",
   "execution_count": 719,
   "metadata": {},
   "outputs": [
    {
     "data": {
      "text/plain": [
       "<pymongo.results.DeleteResult at 0x1eec65ffbc8>"
      ]
     },
     "execution_count": 719,
     "metadata": {},
     "output_type": "execute_result"
    }
   ],
   "source": [
    "mycollection.delete_many({})"
   ]
  },
  {
   "cell_type": "code",
   "execution_count": 720,
   "metadata": {},
   "outputs": [
    {
     "data": {
      "text/plain": [
       "[]"
      ]
     },
     "execution_count": 720,
     "metadata": {},
     "output_type": "execute_result"
    }
   ],
   "source": [
    "list(mycollection.find({}))"
   ]
  },
  {
   "cell_type": "code",
   "execution_count": 721,
   "metadata": {},
   "outputs": [],
   "source": [
    "class MongoHandler():\n",
    "    \n",
    "    def df_to_mongo(self, df = None):\n",
    "        for index, row in df.iterrows():\n",
    "            doc = dict(row) \n",
    "            mycollection.insert_one(doc)\n",
    "    \n",
    "    def image_to_mongo(self, df = None):\n",
    "        i = 1\n",
    "        for team in df.Teams:\n",
    "            record_to_update = {'Teams': team}\n",
    "            location = f'hist/figure{i}.jpeg' \n",
    "            update = {\"$set\": {'Hist': location}}\n",
    "            mycollection.update_one(record_to_update, update)\n",
    "            i += 1\n",
    "    \n",
    "    "
   ]
  },
  {
   "cell_type": "code",
   "execution_count": 722,
   "metadata": {},
   "outputs": [],
   "source": [
    "to_mongo = MongoHandler()"
   ]
  },
  {
   "cell_type": "code",
   "execution_count": 723,
   "metadata": {},
   "outputs": [],
   "source": [
    "to_mongo.df_to_mongo(df = final_df)"
   ]
  },
  {
   "cell_type": "code",
   "execution_count": 724,
   "metadata": {},
   "outputs": [],
   "source": [
    "to_mongo.image_to_mongo(df = final_df)"
   ]
  },
  {
   "cell_type": "code",
   "execution_count": 725,
   "metadata": {},
   "outputs": [
    {
     "data": {
      "text/plain": [
       "[{'_id': ObjectId('5d03aecc322862ab70f02e5d'),\n",
       "  'Teams': 'Aachen',\n",
       "  'Total_goals': 30,\n",
       "  'Total_wins': 6,\n",
       "  'rain_win_pct': 0.0,\n",
       "  'Hist': 'hist/figure1.jpeg'},\n",
       " {'_id': ObjectId('5d03aecc322862ab70f02e5e'),\n",
       "  'Teams': 'Arsenal',\n",
       "  'Total_goals': 74,\n",
       "  'Total_wins': 21,\n",
       "  'rain_win_pct': 0.4,\n",
       "  'Hist': 'hist/figure2.jpeg'},\n",
       " {'_id': ObjectId('5d03aecc322862ab70f02e5f'),\n",
       "  'Teams': 'Aston Villa',\n",
       "  'Total_goals': 37,\n",
       "  'Total_wins': 7,\n",
       "  'rain_win_pct': 0.0,\n",
       "  'Hist': 'hist/figure3.jpeg'},\n",
       " {'_id': ObjectId('5d03aecc322862ab70f02e60'),\n",
       "  'Teams': 'Augsburg',\n",
       "  'Total_goals': 36,\n",
       "  'Total_wins': 8,\n",
       "  'rain_win_pct': 0.25,\n",
       "  'Hist': 'hist/figure4.jpeg'},\n",
       " {'_id': ObjectId('5d03aecc322862ab70f02e61'),\n",
       "  'Teams': 'Bayern Munich',\n",
       "  'Total_goals': 77,\n",
       "  'Total_wins': 23,\n",
       "  'rain_win_pct': 1.0,\n",
       "  'Hist': 'hist/figure5.jpeg'},\n",
       " {'_id': ObjectId('5d03aecc322862ab70f02e62'),\n",
       "  'Teams': 'Blackburn',\n",
       "  'Total_goals': 48,\n",
       "  'Total_wins': 8,\n",
       "  'rain_win_pct': 0.4,\n",
       "  'Hist': 'hist/figure6.jpeg'},\n",
       " {'_id': ObjectId('5d03aecc322862ab70f02e63'),\n",
       "  'Teams': 'Bochum',\n",
       "  'Total_goals': 41,\n",
       "  'Total_wins': 10,\n",
       "  'rain_win_pct': 0.25,\n",
       "  'Hist': 'hist/figure7.jpeg'},\n",
       " {'_id': ObjectId('5d03aecc322862ab70f02e64'),\n",
       "  'Teams': 'Bolton',\n",
       "  'Total_goals': 46,\n",
       "  'Total_wins': 10,\n",
       "  'rain_win_pct': 0.3333333333333333,\n",
       "  'Hist': 'hist/figure8.jpeg'},\n",
       " {'_id': ObjectId('5d03aecc322862ab70f02e65'),\n",
       "  'Teams': 'Braunschweig',\n",
       "  'Total_goals': 37,\n",
       "  'Total_wins': 10,\n",
       "  'rain_win_pct': 0.6666666666666666,\n",
       "  'Hist': 'hist/figure9.jpeg'},\n",
       " {'_id': ObjectId('5d03aecc322862ab70f02e66'),\n",
       "  'Teams': 'Chelsea',\n",
       "  'Total_goals': 65,\n",
       "  'Total_wins': 18,\n",
       "  'rain_win_pct': 0.6,\n",
       "  'Hist': 'hist/figure10.jpeg'},\n",
       " {'_id': ObjectId('5d03aecc322862ab70f02e67'),\n",
       "  'Teams': 'Cottbus',\n",
       "  'Total_goals': 30,\n",
       "  'Total_wins': 8,\n",
       "  'rain_win_pct': 0.0,\n",
       "  'Hist': 'hist/figure11.jpeg'},\n",
       " {'_id': ObjectId('5d03aecc322862ab70f02e68'),\n",
       "  'Teams': 'Dortmund',\n",
       "  'Total_goals': 80,\n",
       "  'Total_wins': 25,\n",
       "  'rain_win_pct': 0.5,\n",
       "  'Hist': 'hist/figure12.jpeg'},\n",
       " {'_id': ObjectId('5d03aecc322862ab70f02e69'),\n",
       "  'Teams': 'Dresden',\n",
       "  'Total_goals': 50,\n",
       "  'Total_wins': 12,\n",
       "  'rain_win_pct': 0.0,\n",
       "  'Hist': 'hist/figure13.jpeg'},\n",
       " {'_id': ObjectId('5d03aecc322862ab70f02e6a'),\n",
       "  'Teams': 'Duisburg',\n",
       "  'Total_goals': 42,\n",
       "  'Total_wins': 10,\n",
       "  'rain_win_pct': 0.6666666666666666,\n",
       "  'Hist': 'hist/figure14.jpeg'},\n",
       " {'_id': ObjectId('5d03aecc322862ab70f02e6b'),\n",
       "  'Teams': 'Ein Frankfurt',\n",
       "  'Total_goals': 76,\n",
       "  'Total_wins': 20,\n",
       "  'rain_win_pct': 0.5,\n",
       "  'Hist': 'hist/figure15.jpeg'},\n",
       " {'_id': ObjectId('5d03aecc322862ab70f02e6c'),\n",
       "  'Teams': 'Erzgebirge Aue',\n",
       "  'Total_goals': 31,\n",
       "  'Total_wins': 8,\n",
       "  'rain_win_pct': 0.0,\n",
       "  'Hist': 'hist/figure16.jpeg'},\n",
       " {'_id': ObjectId('5d03aecc322862ab70f02e6d'),\n",
       "  'Teams': 'Everton',\n",
       "  'Total_goals': 50,\n",
       "  'Total_wins': 15,\n",
       "  'rain_win_pct': 0.6,\n",
       "  'Hist': 'hist/figure17.jpeg'},\n",
       " {'_id': ObjectId('5d03aecc322862ab70f02e6e'),\n",
       "  'Teams': 'FC Koln',\n",
       "  'Total_goals': 39,\n",
       "  'Total_wins': 8,\n",
       "  'rain_win_pct': 0.3333333333333333,\n",
       "  'Hist': 'hist/figure18.jpeg'},\n",
       " {'_id': ObjectId('5d03aecc322862ab70f02e6f'),\n",
       "  'Teams': 'Fortuna Dusseldorf',\n",
       "  'Total_goals': 64,\n",
       "  'Total_wins': 16,\n",
       "  'rain_win_pct': 0.25,\n",
       "  'Hist': 'hist/figure19.jpeg'},\n",
       " {'_id': ObjectId('5d03aecc322862ab70f02e70'),\n",
       "  'Teams': 'Frankfurt FSV',\n",
       "  'Total_goals': 43,\n",
       "  'Total_wins': 7,\n",
       "  'rain_win_pct': 0.3333333333333333,\n",
       "  'Hist': 'hist/figure20.jpeg'},\n",
       " {'_id': ObjectId('5d03aecc322862ab70f02e71'),\n",
       "  'Teams': 'Freiburg',\n",
       "  'Total_goals': 45,\n",
       "  'Total_wins': 10,\n",
       "  'rain_win_pct': 0.25,\n",
       "  'Hist': 'hist/figure21.jpeg'},\n",
       " {'_id': ObjectId('5d03aecc322862ab70f02e72'),\n",
       "  'Teams': 'Fulham',\n",
       "  'Total_goals': 48,\n",
       "  'Total_wins': 14,\n",
       "  'rain_win_pct': 0.5,\n",
       "  'Hist': 'hist/figure22.jpeg'},\n",
       " {'_id': ObjectId('5d03aecc322862ab70f02e73'),\n",
       "  'Teams': 'Greuther Furth',\n",
       "  'Total_goals': 73,\n",
       "  'Total_wins': 20,\n",
       "  'rain_win_pct': 0.8,\n",
       "  'Hist': 'hist/figure23.jpeg'},\n",
       " {'_id': ObjectId('5d03aecc322862ab70f02e74'),\n",
       "  'Teams': 'Hamburg',\n",
       "  'Total_goals': 35,\n",
       "  'Total_wins': 8,\n",
       "  'rain_win_pct': 0.0,\n",
       "  'Hist': 'hist/figure24.jpeg'},\n",
       " {'_id': ObjectId('5d03aecc322862ab70f02e75'),\n",
       "  'Teams': 'Hannover',\n",
       "  'Total_goals': 41,\n",
       "  'Total_wins': 12,\n",
       "  'rain_win_pct': 0.6666666666666666,\n",
       "  'Hist': 'hist/figure25.jpeg'},\n",
       " {'_id': ObjectId('5d03aecc322862ab70f02e76'),\n",
       "  'Teams': 'Hansa Rostock',\n",
       "  'Total_goals': 34,\n",
       "  'Total_wins': 5,\n",
       "  'rain_win_pct': 0.0,\n",
       "  'Hist': 'hist/figure26.jpeg'},\n",
       " {'_id': ObjectId('5d03aecc322862ab70f02e77'),\n",
       "  'Teams': 'Hertha',\n",
       "  'Total_goals': 38,\n",
       "  'Total_wins': 7,\n",
       "  'rain_win_pct': 0.3333333333333333,\n",
       "  'Hist': 'hist/figure27.jpeg'},\n",
       " {'_id': ObjectId('5d03aecc322862ab70f02e78'),\n",
       "  'Teams': 'Hoffenheim',\n",
       "  'Total_goals': 41,\n",
       "  'Total_wins': 10,\n",
       "  'rain_win_pct': 0.2,\n",
       "  'Hist': 'hist/figure28.jpeg'},\n",
       " {'_id': ObjectId('5d03aecc322862ab70f02e79'),\n",
       "  'Teams': 'Ingolstadt',\n",
       "  'Total_goals': 43,\n",
       "  'Total_wins': 8,\n",
       "  'rain_win_pct': 0.25,\n",
       "  'Hist': 'hist/figure29.jpeg'},\n",
       " {'_id': ObjectId('5d03aecc322862ab70f02e7a'),\n",
       "  'Teams': 'Kaiserslautern',\n",
       "  'Total_goals': 24,\n",
       "  'Total_wins': 4,\n",
       "  'rain_win_pct': 0.25,\n",
       "  'Hist': 'hist/figure30.jpeg'},\n",
       " {'_id': ObjectId('5d03aecc322862ab70f02e7b'),\n",
       "  'Teams': 'Karlsruhe',\n",
       "  'Total_goals': 34,\n",
       "  'Total_wins': 9,\n",
       "  'rain_win_pct': 0.0,\n",
       "  'Hist': 'hist/figure31.jpeg'},\n",
       " {'_id': ObjectId('5d03aecc322862ab70f02e7c'),\n",
       "  'Teams': 'Leverkusen',\n",
       "  'Total_goals': 52,\n",
       "  'Total_wins': 15,\n",
       "  'rain_win_pct': 0.4,\n",
       "  'Hist': 'hist/figure32.jpeg'},\n",
       " {'_id': ObjectId('5d03aecc322862ab70f02e7d'),\n",
       "  'Teams': 'Liverpool',\n",
       "  'Total_goals': 47,\n",
       "  'Total_wins': 14,\n",
       "  'rain_win_pct': 0.4,\n",
       "  'Hist': 'hist/figure33.jpeg'},\n",
       " {'_id': ObjectId('5d03aecc322862ab70f02e7e'),\n",
       "  'Teams': \"M'gladbach\",\n",
       "  'Total_goals': 49,\n",
       "  'Total_wins': 17,\n",
       "  'rain_win_pct': 0.6666666666666666,\n",
       "  'Hist': 'hist/figure34.jpeg'},\n",
       " {'_id': ObjectId('5d03aecc322862ab70f02e7f'),\n",
       "  'Teams': 'Mainz',\n",
       "  'Total_goals': 47,\n",
       "  'Total_wins': 9,\n",
       "  'rain_win_pct': 0.0,\n",
       "  'Hist': 'hist/figure35.jpeg'},\n",
       " {'_id': ObjectId('5d03aecc322862ab70f02e80'),\n",
       "  'Teams': 'Man City',\n",
       "  'Total_goals': 93,\n",
       "  'Total_wins': 28,\n",
       "  'rain_win_pct': 0.8333333333333334,\n",
       "  'Hist': 'hist/figure36.jpeg'},\n",
       " {'_id': ObjectId('5d03aecc322862ab70f02e81'),\n",
       "  'Teams': 'Man United',\n",
       "  'Total_goals': 89,\n",
       "  'Total_wins': 28,\n",
       "  'rain_win_pct': 0.75,\n",
       "  'Hist': 'hist/figure37.jpeg'},\n",
       " {'_id': ObjectId('5d03aecc322862ab70f02e82'),\n",
       "  'Teams': 'Munich 1860',\n",
       "  'Total_goals': 62,\n",
       "  'Total_wins': 17,\n",
       "  'rain_win_pct': 1.0,\n",
       "  'Hist': 'hist/figure38.jpeg'},\n",
       " {'_id': ObjectId('5d03aecc322862ab70f02e83'),\n",
       "  'Teams': 'Newcastle',\n",
       "  'Total_goals': 56,\n",
       "  'Total_wins': 19,\n",
       "  'rain_win_pct': 0.16666666666666666,\n",
       "  'Hist': 'hist/figure39.jpeg'},\n",
       " {'_id': ObjectId('5d03aecc322862ab70f02e84'),\n",
       "  'Teams': 'Norwich',\n",
       "  'Total_goals': 52,\n",
       "  'Total_wins': 12,\n",
       "  'rain_win_pct': 0.3333333333333333,\n",
       "  'Hist': 'hist/figure40.jpeg'},\n",
       " {'_id': ObjectId('5d03aecc322862ab70f02e85'),\n",
       "  'Teams': 'Nurnberg',\n",
       "  'Total_goals': 38,\n",
       "  'Total_wins': 12,\n",
       "  'rain_win_pct': 0.5,\n",
       "  'Hist': 'hist/figure41.jpeg'},\n",
       " {'_id': ObjectId('5d03aecc322862ab70f02e86'),\n",
       "  'Teams': 'Paderborn',\n",
       "  'Total_goals': 51,\n",
       "  'Total_wins': 17,\n",
       "  'rain_win_pct': 0.6,\n",
       "  'Hist': 'hist/figure42.jpeg'},\n",
       " {'_id': ObjectId('5d03aecc322862ab70f02e87'),\n",
       "  'Teams': 'QPR',\n",
       "  'Total_goals': 43,\n",
       "  'Total_wins': 10,\n",
       "  'rain_win_pct': 0.2,\n",
       "  'Hist': 'hist/figure43.jpeg'},\n",
       " {'_id': ObjectId('5d03aecc322862ab70f02e88'),\n",
       "  'Teams': 'Schalke 04',\n",
       "  'Total_goals': 74,\n",
       "  'Total_wins': 20,\n",
       "  'rain_win_pct': 0.75,\n",
       "  'Hist': 'hist/figure44.jpeg'},\n",
       " {'_id': ObjectId('5d03aecc322862ab70f02e89'),\n",
       "  'Teams': 'St Pauli',\n",
       "  'Total_goals': 59,\n",
       "  'Total_wins': 18,\n",
       "  'rain_win_pct': 0.5,\n",
       "  'Hist': 'hist/figure45.jpeg'},\n",
       " {'_id': ObjectId('5d03aecc322862ab70f02e8a'),\n",
       "  'Teams': 'Stoke',\n",
       "  'Total_goals': 36,\n",
       "  'Total_wins': 11,\n",
       "  'rain_win_pct': 0.5,\n",
       "  'Hist': 'hist/figure46.jpeg'},\n",
       " {'_id': ObjectId('5d03aecc322862ab70f02e8b'),\n",
       "  'Teams': 'Stuttgart',\n",
       "  'Total_goals': 63,\n",
       "  'Total_wins': 15,\n",
       "  'rain_win_pct': 0.25,\n",
       "  'Hist': 'hist/figure47.jpeg'},\n",
       " {'_id': ObjectId('5d03aecc322862ab70f02e8c'),\n",
       "  'Teams': 'Sunderland',\n",
       "  'Total_goals': 45,\n",
       "  'Total_wins': 11,\n",
       "  'rain_win_pct': 0.75,\n",
       "  'Hist': 'hist/figure48.jpeg'},\n",
       " {'_id': ObjectId('5d03aecc322862ab70f02e8d'),\n",
       "  'Teams': 'Swansea',\n",
       "  'Total_goals': 44,\n",
       "  'Total_wins': 12,\n",
       "  'rain_win_pct': 0.2857142857142857,\n",
       "  'Hist': 'hist/figure49.jpeg'},\n",
       " {'_id': ObjectId('5d03aecc322862ab70f02e8e'),\n",
       "  'Teams': 'Tottenham',\n",
       "  'Total_goals': 66,\n",
       "  'Total_wins': 20,\n",
       "  'rain_win_pct': 1.0,\n",
       "  'Hist': 'hist/figure50.jpeg'},\n",
       " {'_id': ObjectId('5d03aecc322862ab70f02e8f'),\n",
       "  'Teams': 'Union Berlin',\n",
       "  'Total_goals': 55,\n",
       "  'Total_wins': 14,\n",
       "  'rain_win_pct': 0.4,\n",
       "  'Hist': 'hist/figure51.jpeg'},\n",
       " {'_id': ObjectId('5d03aecc322862ab70f02e90'),\n",
       "  'Teams': 'Werder Bremen',\n",
       "  'Total_goals': 49,\n",
       "  'Total_wins': 11,\n",
       "  'rain_win_pct': 0.2,\n",
       "  'Hist': 'hist/figure52.jpeg'},\n",
       " {'_id': ObjectId('5d03aecc322862ab70f02e91'),\n",
       "  'Teams': 'West Brom',\n",
       "  'Total_goals': 45,\n",
       "  'Total_wins': 13,\n",
       "  'rain_win_pct': 0.4,\n",
       "  'Hist': 'hist/figure53.jpeg'},\n",
       " {'_id': ObjectId('5d03aecc322862ab70f02e92'),\n",
       "  'Teams': 'Wigan',\n",
       "  'Total_goals': 42,\n",
       "  'Total_wins': 11,\n",
       "  'rain_win_pct': 0.14285714285714285,\n",
       "  'Hist': 'hist/figure54.jpeg'},\n",
       " {'_id': ObjectId('5d03aecc322862ab70f02e93'),\n",
       "  'Teams': 'Wolfsburg',\n",
       "  'Total_goals': 47,\n",
       "  'Total_wins': 13,\n",
       "  'rain_win_pct': 0.2,\n",
       "  'Hist': 'hist/figure55.jpeg'},\n",
       " {'_id': ObjectId('5d03aecc322862ab70f02e94'),\n",
       "  'Teams': 'Wolves',\n",
       "  'Total_goals': 40,\n",
       "  'Total_wins': 5,\n",
       "  'rain_win_pct': 0.0,\n",
       "  'Hist': 'hist/figure56.jpeg'}]"
      ]
     },
     "execution_count": 725,
     "metadata": {},
     "output_type": "execute_result"
    }
   ],
   "source": [
    "list(mycollection.find({}))"
   ]
  },
  {
   "cell_type": "markdown",
   "metadata": {},
   "source": [
    "[Return to contents](#Table-of-contents)"
   ]
  },
  {
   "cell_type": "markdown",
   "metadata": {},
   "source": [
    "# Summary\n",
    "\n",
    "In this lab, we dug deep and used everything we've learned so far about python programming, databases, HTTP requests and API calls to ETL data from a SQL database into a MongoDB instance!"
   ]
  }
 ],
 "metadata": {
  "kernelspec": {
   "display_name": "Python 3",
   "language": "python",
   "name": "python3"
  },
  "language_info": {
   "codemirror_mode": {
    "name": "ipython",
    "version": 3
   },
   "file_extension": ".py",
   "mimetype": "text/x-python",
   "name": "python",
   "nbconvert_exporter": "python",
   "pygments_lexer": "ipython3",
   "version": "3.6.6"
  }
 },
 "nbformat": 4,
 "nbformat_minor": 2
}
